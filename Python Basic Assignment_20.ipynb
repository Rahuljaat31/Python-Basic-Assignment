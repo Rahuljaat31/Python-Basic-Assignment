{
 "cells": [
  {
   "cell_type": "markdown",
   "metadata": {},
   "source": [
    "Ques.1 Set the variable test1 to the string 'This is a test of the emergency text system,' and save test1 to a\n",
    "file named test.txt."
   ]
  },
  {
   "cell_type": "code",
   "execution_count": 1,
   "metadata": {},
   "outputs": [
    {
     "name": "stdout",
     "output_type": "stream",
     "text": [
      "This is a test of the emergency text system,\n"
     ]
    }
   ],
   "source": [
    "#Ans.1\n",
    "test1 = 'This is a test of the emergency text system,'\n",
    "print(test1)\n",
    "with open('test.txt','w') as file:\n",
    "    file.write(test1)\n",
    "    file.close()"
   ]
  },
  {
   "cell_type": "code",
   "execution_count": 7,
   "metadata": {},
   "outputs": [
    {
     "name": "stdout",
     "output_type": "stream",
     "text": [
      "This is a test of the emergency text system,\n"
     ]
    }
   ],
   "source": [
    "! type test.txt #reading the contents"
   ]
  },
  {
   "cell_type": "markdown",
   "metadata": {},
   "source": [
    "Ques.2 Read the contents of the file test.txt into the variable test2. Is there a difference between test 1\n",
    "and test 2?"
   ]
  },
  {
   "cell_type": "code",
   "execution_count": 12,
   "metadata": {},
   "outputs": [
    {
     "name": "stdout",
     "output_type": "stream",
     "text": [
      "This is a test of the emergency text system,\n",
      "This is a test of the emergency text system,\n"
     ]
    }
   ],
   "source": [
    "#Ans.2\n",
    "with open('test.txt','r') as file:\n",
    "    test2 = file.read()\n",
    "    \n",
    "print(test2)  \n",
    "print(test1)#No difference both are same"
   ]
  },
  {
   "cell_type": "markdown",
   "metadata": {},
   "source": [
    "Ques.3 Create a CSV file called books.csv by using these lines:\n",
    "title,author,year\n",
    "The Weirdstone of Brisingamen,Alan Garner,1960\n",
    "Perdido Street Station,China Miéville,2000\n",
    "Thud!,Terry Pratchett,2005\n",
    "The Spellman Files,Lisa Lutz,2007\n",
    "Small Gods,Terry Pratchett,1992"
   ]
  },
  {
   "cell_type": "code",
   "execution_count": null,
   "metadata": {},
   "outputs": [],
   "source": [
    "#Ans.3\n",
    "import csv\n",
    "data =[ ['title','author','year'],\n",
    "    ['The Weirdstone of Brisingamen','Alan Garner',1960],\n",
    "    ['Perdido Street Station','China Miéville',2000],\n",
    "    ['Thud!','Terry Pratchett',2005],\n",
    "    ['The Spellman Files','Lisa Lutz',2007],\n",
    "    ['Small Gods','Terry Pratchett',1992]]\n",
    "with open('books.csv','w',newline='') as csvfile:\n",
    "    book = csv.writer(csvfile)\n",
    "    book.writerows(data)"
   ]
  },
  {
   "cell_type": "markdown",
   "metadata": {},
   "source": [
    "Ques.4 Use the sqlite3 module to create a SQLite database called books.db, and a table called books with\n",
    "these fields: title (text), author (text), and year (integer)."
   ]
  },
  {
   "cell_type": "code",
   "execution_count": 2,
   "metadata": {},
   "outputs": [],
   "source": [
    "#Ans.4\n",
    "import sqlite3\n",
    "conn = sqlite3.connect('books.db')\n",
    "c = conn.cursor()\n",
    "\n",
    "c.execute('create table books(title varchar(20),author varchar(20), year int)')\n",
    "conn.commit()"
   ]
  },
  {
   "cell_type": "markdown",
   "metadata": {},
   "source": [
    "Ques.5 Read books.csv and insert its data into the book table."
   ]
  },
  {
   "cell_type": "code",
   "execution_count": null,
   "metadata": {},
   "outputs": [],
   "source": [
    "#Ans.5\n",
    "import pandas as pd\n",
    "\n",
    "read_books = pd.read_csv('books.csv',encoding='unicode_escape')\n",
    "read_books.to_sql('books', conn, if_exists='append', index = False)"
   ]
  },
  {
   "cell_type": "markdown",
   "metadata": {},
   "source": [
    "Ques.6 Select and print the title column from the book table in alphabetical order."
   ]
  },
  {
   "cell_type": "code",
   "execution_count": 3,
   "metadata": {},
   "outputs": [
    {
     "name": "stdout",
     "output_type": "stream",
     "text": [
      "[('Perdido Street Station',), ('Small Gods',), ('The Spellman Files',), ('The Weirdstone of Brisingamen',), ('Thud!',)]\n"
     ]
    }
   ],
   "source": [
    "#Ans.6\n",
    "import sqlite3\n",
    "conn = sqlite3.connect('books.db')\n",
    "c = conn.cursor()\n",
    "c.execute('select title from books order by title asc')\n",
    "print(c.fetchall())"
   ]
  },
  {
   "cell_type": "markdown",
   "metadata": {},
   "source": [
    "Ques.7 From the book table, select and print all columns in the order of publication."
   ]
  },
  {
   "cell_type": "code",
   "execution_count": 6,
   "metadata": {},
   "outputs": [
    {
     "name": "stdout",
     "output_type": "stream",
     "text": [
      "('The Weirdstone of Brisingamen', 'Alan Garner', 1960)\n",
      "('Small Gods', 'Terry Pratchett', 1992)\n",
      "('Perdido Street Station', 'China Miéville', 2000)\n",
      "('Thud!', 'Terry Pratchett', 2005)\n",
      "('The Spellman Files', 'Lisa Lutz', 2007)\n"
     ]
    }
   ],
   "source": [
    "#Ans.7\n",
    "import sqlite3\n",
    "conn = sqlite3.connect('books.db')\n",
    "cursor = conn.cursor()\n",
    "result = cursor.execute(\"SELECT * FROM books ORDER BY year\")\n",
    "for record in result:\n",
    "    print(record)"
   ]
  },
  {
   "cell_type": "markdown",
   "metadata": {},
   "source": [
    "Ques.8 Use the sqlalchemy module to connect to the sqlite3 database books.db that you just made in\n",
    "exercise 6."
   ]
  },
  {
   "cell_type": "code",
   "execution_count": 8,
   "metadata": {},
   "outputs": [
    {
     "name": "stdout",
     "output_type": "stream",
     "text": [
      "('The Weirdstone of Brisingamen', 'Alan Garner', 1960)\n",
      "('Perdido Street Station', 'China Miéville', 2000)\n",
      "('Thud!', 'Terry Pratchett', 2005)\n",
      "('The Spellman Files', 'Lisa Lutz', 2007)\n",
      "('Small Gods', 'Terry Pratchett', 1992)\n"
     ]
    }
   ],
   "source": [
    "#Ans.8\n",
    "import sqlalchemy\n",
    "engine = sqlalchemy.create_engine(\"sqlite:///books.db\")\n",
    "result = engine.execute('select * from books')\n",
    "for i in result:\n",
    "    print(i)"
   ]
  },
  {
   "cell_type": "markdown",
   "metadata": {},
   "source": [
    "Ques.9 Install the Redis server and the Python redis library (pip install redis) on your computer. Create a\n",
    "Redis hash called test with the fields count (1) and name ('Fester Bestertester'). Print all the fields for\n",
    "test."
   ]
  },
  {
   "cell_type": "code",
   "execution_count": 2,
   "metadata": {},
   "outputs": [
    {
     "name": "stdout",
     "output_type": "stream",
     "text": [
      "Requirement already satisfied: redis in c:\\users\\rahul\\anaconda3\\lib\\site-packages (4.3.4)\n",
      "Requirement already satisfied: packaging>=20.4 in c:\\users\\rahul\\anaconda3\\lib\\site-packages (from redis) (20.4)\n",
      "Requirement already satisfied: async-timeout>=4.0.2 in c:\\users\\rahul\\anaconda3\\lib\\site-packages (from redis) (4.0.2)\n",
      "Requirement already satisfied: deprecated>=1.2.3 in c:\\users\\rahul\\anaconda3\\lib\\site-packages (from redis) (1.2.13)\n",
      "Requirement already satisfied: pyparsing>=2.0.2 in c:\\users\\rahul\\anaconda3\\lib\\site-packages (from packaging>=20.4->redis) (2.4.7)\n",
      "Requirement already satisfied: six in c:\\users\\rahul\\anaconda3\\lib\\site-packages (from packaging>=20.4->redis) (1.15.0)\n",
      "Requirement already satisfied: wrapt<2,>=1.10 in c:\\users\\rahul\\anaconda3\\lib\\site-packages (from deprecated>=1.2.3->redis) (1.11.2)\n"
     ]
    }
   ],
   "source": [
    "#Ans.9\n",
    "!pip install redis"
   ]
  },
  {
   "cell_type": "code",
   "execution_count": 8,
   "metadata": {},
   "outputs": [
    {
     "name": "stderr",
     "output_type": "stream",
     "text": [
      "<ipython-input-8-3165ed6bd1e2>:5: DeprecationWarning: Redis.hmset() is deprecated. Use Redis.hset() instead.\n",
      "  conn.hmset('test', {'count': 1, 'name': 'Fester Bestertester'})\n"
     ]
    },
    {
     "data": {
      "text/plain": [
       "{b'count': b'1', b'name': b'Fester Bestertester'}"
      ]
     },
     "execution_count": 8,
     "metadata": {},
     "output_type": "execute_result"
    }
   ],
   "source": [
    "#Ans.9\n",
    "import redis\n",
    "conn = redis.Redis()\n",
    "conn.delete('test')\n",
    "conn.hmset('test', {'count': 1, 'name': 'Fester Bestertester'})\n",
    "conn.hgetall('test')"
   ]
  },
  {
   "cell_type": "markdown",
   "metadata": {},
   "source": [
    "Ques.10 Increment the count field of test and print it."
   ]
  },
  {
   "cell_type": "code",
   "execution_count": 9,
   "metadata": {},
   "outputs": [
    {
     "data": {
      "text/plain": [
       "b'2'"
      ]
     },
     "execution_count": 9,
     "metadata": {},
     "output_type": "execute_result"
    }
   ],
   "source": [
    "#Ans.10\n",
    "conn.hincrby('test', 'count', 1)\n",
    "conn.hget('test', 'count')"
   ]
  }
 ],
 "metadata": {
  "kernelspec": {
   "display_name": "Python 3",
   "language": "python",
   "name": "python3"
  },
  "language_info": {
   "codemirror_mode": {
    "name": "ipython",
    "version": 3
   },
   "file_extension": ".py",
   "mimetype": "text/x-python",
   "name": "python",
   "nbconvert_exporter": "python",
   "pygments_lexer": "ipython3",
   "version": "3.8.3"
  }
 },
 "nbformat": 4,
 "nbformat_minor": 4
}
