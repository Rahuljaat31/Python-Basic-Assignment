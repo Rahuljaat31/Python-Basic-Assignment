{
 "cells": [
  {
   "cell_type": "code",
   "execution_count": null,
   "metadata": {},
   "outputs": [],
   "source": [
    "\"\"\"\n",
    "1.What are the two values of the Boolean data type? How do you write them?\n",
    "Ans.Two values of the Boolean data type are True and False. We write using capital T and F with\n",
    "the rest of the word in lower case.\n",
    "\n",
    "2. What are the three different types of Boolean operators?\n",
    "Ans. Three different types of Boolean operators are AND, OR and NOT.\n",
    "\n",
    "3. Make a list of each Boolean operator's truth tables (i.e. every possible combination of \n",
    "Boolean values for the operator and what it evaluate ).\n",
    "Ans. True and True = True.\n",
    "\n",
    "     True and False = False.\n",
    "     \n",
    "     True and True = True\n",
    "\n",
    "     False and True = False.\n",
    "     \n",
    "     False and False = False.\n",
    "\n",
    "     True or True = True.\n",
    "\n",
    "     True or False = True.\n",
    "\n",
    "     False or True = True.\n",
    "\n",
    "     False or False = False.\n",
    "\n",
    "     not True = False.\n",
    "\n",
    "     not False = True.\n",
    "     \n",
    "4. What are the values of the following expressions?\n",
    " (5 > 4) and (3 == 5)\n",
    " not (5 > 4)\n",
    " (5 > 4) or (3 == 5)\n",
    " not ((5 > 4) or (3 == 5))\n",
    " (True and True) and (True == False)\n",
    " (not False) or (not True)\n",
    "Ans. Expressions                      Values\n",
    " (5 > 4) and (3 == 5)                  False\n",
    " not (5 > 4)                           False\n",
    " (5 > 4) or (3 == 5)                   True\n",
    " not ((5 > 4) or (3 == 5))             False\n",
    " (True and True) and (True == False)   False\n",
    " (not False) or (not True)             True\n",
    "     \n",
    "5. What are the six comparison operators?\n",
    "Ans.  Less than ( < ) \n",
    "      Less than or equal to ( <= ) \n",
    "      Greater than ( > ) \n",
    "      Greater than or equal to ( >= ) \n",
    "      Equal to ( == ) \n",
    "      Not equal to ( != )\n",
    "\n",
    "6. How do you tell the difference between the equal to and assignment operators?Describe a\n",
    "condition and when you would use one.\n",
    "Ans. The “=” is an assignment operator is used to assign the value on the right to the variable \n",
    "     on the left. The '==' operator checks whether the two given operands are equal or not. \n",
    "     If so, it returns true. Otherwise it returns false.\n",
    "     Condition used below in code Ans.6\n",
    "     \n",
    "7. Identify the three blocks in this code:\n",
    "spam = 0\n",
    "if spam == 10:\n",
    "print(\"eggs\")\n",
    "if spam > 5:\n",
    "print(\"bacon\")\n",
    "else:\n",
    "print(\"ham\")\n",
    "print(\"spam\")\n",
    "print(\"spam\")\n",
    "Ans: \n",
    "spam = 0\n",
    "if spam == 10:\n",
    "    print(\"eggs\") #Block first if condition\n",
    "if spam > 5:\n",
    "    print(\"bacon\")#Block Second if condition\n",
    "else:\n",
    "    print(\"ham\")#Block Third else condition\n",
    "    print(\"spam\")\n",
    "    print(\"spam\")\n",
    "    \n",
    "8. Write code that prints Hello if 1 is stored in spam, prints Howdy if 2 is stored in spam, \n",
    "and prints Greetings! if anything else is stored in spam.\n",
    "Ans.\n",
    "spam = int(input(\"Enter only Integer\"))\n",
    "if spam == 1:\n",
    "    print(\"Hello\")\n",
    "elif spam == 2:\n",
    "    print(\"Howdy\")\n",
    "else :\n",
    "    print(\"Greetings!\")\n",
    "    \n",
    "9.If your programme is stuck in an endless loop, what keys you’ll press?\n",
    "Ans. CTRL + C \n",
    "\n",
    "10. How can you tell the difference between break and continue?\n",
    "Ans. The main difference between both the statements is that when break keyword comes, it \n",
    "  terminates the execution of the current loop and passes the control over the next loop or \n",
    "  main body, whereas when continue keyword is encountered, it skips the current iteration and \n",
    "  executes the very next iteration in the loop.\n",
    "  \n",
    "11. In a for loop, what is the difference between range(10), range(0, 10), and range(0, 10, 1)?\n",
    "Ans. There no difference in for loop if we compile range(10), range(0, 10), and range(0, 10, 1).\n",
    "     The range(10) call ranges from 0 up to (but not including) 10, range(0, 10) tells the loop \n",
    "     to start at 0, and range(0, 10, 1) tells the loop to increase the variable by 1 on each \n",
    "     iteration.\n",
    "     \n",
    "12. Write a short program that prints the numbers 1 to 10 using a for loop. Then write an \n",
    "equivalent program that prints the numbers 1 to 10 using a while loop.\n",
    "Ans. #Using for loop\n",
    "      print(\"Using for loop\")\n",
    "      for i in range(10):\n",
    "          print(i+1)\n",
    "     #Using while loop   \n",
    "      print(\"Using while loop\")\n",
    "      a = 1\n",
    "      while a <= 10:\n",
    "          print (a)\n",
    "          a = a+1\n",
    "          \n",
    "13. If you had a function named bacon() inside a module named spam, how would you call it after\n",
    "    importing spam?\n",
    "Ans. We can call it by using spam.bacon()\n",
    "\n",
    "\"\"\""
   ]
  },
  {
   "cell_type": "code",
   "execution_count": 12,
   "metadata": {},
   "outputs": [
    {
     "name": "stdout",
     "output_type": "stream",
     "text": [
      "True False\n"
     ]
    }
   ],
   "source": [
    "# Ans.1 example\n",
    "a,b = True, False\n",
    "print(a,b)"
   ]
  },
  {
   "cell_type": "code",
   "execution_count": 9,
   "metadata": {},
   "outputs": [
    {
     "name": "stdout",
     "output_type": "stream",
     "text": [
      "Ans.2 Three different types of Boolean operators are AND, OR, NOT\n"
     ]
    }
   ],
   "source": [
    "# Ans.2 \n",
    "print(\"Ans.2 Three different types of Boolean operators are AND, OR, NOT\")"
   ]
  },
  {
   "cell_type": "code",
   "execution_count": 13,
   "metadata": {},
   "outputs": [
    {
     "name": "stdout",
     "output_type": "stream",
     "text": [
      "1 False\n",
      "2 True\n",
      "3 False\n",
      "4 False\n",
      "5 True\n",
      "6 True\n",
      "7 True\n",
      "8 False\n",
      "9 False\n",
      "10 True\n"
     ]
    }
   ],
   "source": [
    "# Ans.3 example\n",
    "t = True\n",
    "f = False\n",
    "print( 1, t and f)\n",
    "print( 2, t and t)\n",
    "print( 3, f and t)\n",
    "print( 4, f and f)\n",
    "print( 5, t or f)\n",
    "print( 6, t or t)\n",
    "print( 7, f or t)\n",
    "print( 8, f or f)\n",
    "print( 9, not t)\n",
    "print( 10, not f)"
   ]
  },
  {
   "cell_type": "code",
   "execution_count": 17,
   "metadata": {},
   "outputs": [
    {
     "name": "stdout",
     "output_type": "stream",
     "text": [
      "False\n",
      "False\n",
      "True\n",
      "False\n",
      "False\n",
      "True\n"
     ]
    }
   ],
   "source": [
    "#Ans.4 \n",
    "print((5>4) and (3==5))\n",
    "print(not(5>4))\n",
    "print((5>4) or (3==5))\n",
    "print(not(5>4) or (3==5))\n",
    "print((True and True) and (True==False))\n",
    "print((not(False))or(not(True)))"
   ]
  },
  {
   "cell_type": "code",
   "execution_count": 19,
   "metadata": {},
   "outputs": [
    {
     "name": "stdout",
     "output_type": "stream",
     "text": [
      "Values are not equal\n"
     ]
    }
   ],
   "source": [
    "#Ans.6 \n",
    "#assignement =\n",
    "a,b = 3,5\n",
    "if (a==b): # operator ==\n",
    "    print(\"Values are equal\")\n",
    "else:\n",
    "    print(\"Values are not equal\")"
   ]
  },
  {
   "cell_type": "code",
   "execution_count": 22,
   "metadata": {},
   "outputs": [
    {
     "name": "stdout",
     "output_type": "stream",
     "text": [
      "ham\n",
      "spam\n",
      "spam\n"
     ]
    }
   ],
   "source": [
    "#Ans.7\n",
    "spam = 0\n",
    "if spam == 10:\n",
    "    print(\"eggs\") #Block first if condition\n",
    "if spam > 5:\n",
    "    print(\"bacon\")#Block Second if condition\n",
    "else:\n",
    "    print(\"ham\")#Block Third else condition\n",
    "    print(\"spam\")\n",
    "    print(\"spam\")\n"
   ]
  },
  {
   "cell_type": "code",
   "execution_count": 6,
   "metadata": {},
   "outputs": [
    {
     "name": "stdout",
     "output_type": "stream",
     "text": [
      "Enter an integer: 1\n",
      "Hello\n"
     ]
    }
   ],
   "source": [
    "#Ans.8 Ask for specific data type as int example.\n",
    "intcheck = False\n",
    "while not intcheck: \n",
    "    try:\n",
    "        spam = int(input('Enter an integer: '))\n",
    "        intcheck = True\n",
    "        if spam == 1:\n",
    "            print(\"Hello\")\n",
    "        elif spam == 2:\n",
    "            print(\"Howdy\")\n",
    "        else :\n",
    "            print(\"Greetings!\")\n",
    "    except ValueError:\n",
    "        print('Not an integar')"
   ]
  },
  {
   "cell_type": "code",
   "execution_count": 10,
   "metadata": {},
   "outputs": [
    {
     "name": "stdout",
     "output_type": "stream",
     "text": [
      "Enter only Integer1\n",
      "Hello\n"
     ]
    }
   ],
   "source": [
    "#Ans.8 Enter only integer value example.\n",
    "spam = int(input(\"Enter only Integer\"))\n",
    "if spam == 1:\n",
    "    print(\"Hello\")\n",
    "elif spam == 2:\n",
    "    print(\"Howdy\")\n",
    "else :\n",
    "    print(\"Greetings!\")"
   ]
  },
  {
   "cell_type": "code",
   "execution_count": 3,
   "metadata": {},
   "outputs": [
    {
     "name": "stdout",
     "output_type": "stream",
     "text": [
      "range(0, 10) range(0, 10) range(0, 10)\n",
      "0 range(10)\n",
      "1 range(10)\n",
      "2 range(10)\n",
      "3 range(10)\n",
      "4 range(10)\n",
      "5 range(10)\n",
      "6 range(10)\n",
      "7 range(10)\n",
      "8 range(10)\n",
      "9 range(10)\n",
      "0 range(0,10)\n",
      "1 range(0,10)\n",
      "2 range(0,10)\n",
      "3 range(0,10)\n",
      "4 range(0,10)\n",
      "5 range(0,10)\n",
      "6 range(0,10)\n",
      "7 range(0,10)\n",
      "8 range(0,10)\n",
      "9 range(0,10)\n",
      "0 range(0, 10, 1)\n",
      "1 range(0, 10, 1)\n",
      "2 range(0, 10, 1)\n",
      "3 range(0, 10, 1)\n",
      "4 range(0, 10, 1)\n",
      "5 range(0, 10, 1)\n",
      "6 range(0, 10, 1)\n",
      "7 range(0, 10, 1)\n",
      "8 range(0, 10, 1)\n",
      "9 range(0, 10, 1)\n"
     ]
    }
   ],
   "source": [
    "#Ans.11 Using range(10), range(0, 10), and range(0, 10, 1) in for loop \n",
    "r = range(10)\n",
    "a = range(0,10)\n",
    "b = range(0, 10, 1)\n",
    "\n",
    "print(r,a,b) #will result in same output range(0, 10) range(0, 10) range(0, 10)\n",
    "\n",
    "for i in r:\n",
    "    print(i,\"range(10)\") \n",
    "    \n",
    "for i in a:\n",
    "    print(i,\"range(0,10)\")\n",
    "    \n",
    "for i in b:\n",
    "    print(i,\"range(0, 10, 1)\")"
   ]
  },
  {
   "cell_type": "code",
   "execution_count": 1,
   "metadata": {},
   "outputs": [
    {
     "name": "stdout",
     "output_type": "stream",
     "text": [
      "Using for loop\n",
      "1\n",
      "2\n",
      "3\n",
      "4\n",
      "5\n",
      "6\n",
      "7\n",
      "8\n",
      "9\n",
      "10\n",
      "Using while loop\n",
      "1\n",
      "2\n",
      "3\n",
      "4\n",
      "5\n",
      "6\n",
      "7\n",
      "8\n",
      "9\n",
      "10\n"
     ]
    }
   ],
   "source": [
    "#Ans. 12 \n",
    "#Using for loop\n",
    "print(\"Using for loop\")\n",
    "for i in range(10):\n",
    "    print(i+1)\n",
    "#Using while loop   \n",
    "print(\"Using while loop\")\n",
    "a = 1\n",
    "while a <= 10:\n",
    "    print (a)\n",
    "    a = a+1"
   ]
  },
  {
   "cell_type": "code",
   "execution_count": null,
   "metadata": {},
   "outputs": [],
   "source": []
  }
 ],
 "metadata": {
  "kernelspec": {
   "display_name": "Python 3",
   "language": "python",
   "name": "python3"
  },
  "language_info": {
   "codemirror_mode": {
    "name": "ipython",
    "version": 3
   },
   "file_extension": ".py",
   "mimetype": "text/x-python",
   "name": "python",
   "nbconvert_exporter": "python",
   "pygments_lexer": "ipython3",
   "version": "3.8.3"
  }
 },
 "nbformat": 4,
 "nbformat_minor": 4
}
