{
 "cells": [
  {
   "cell_type": "code",
   "execution_count": null,
   "metadata": {},
   "outputs": [],
   "source": [
    "\"\"\"\n",
    "1. What exactly is []?\n",
    "Ans. [] is empty list value, which is a list that contains no items. \n",
    "\n",
    "2. In a list of values stored in a variable called spam, how would you assign the value 'hello' \n",
    "as the third value? (Assume [2, 4, 6, 8, 10] are in spam.)\n",
    "Ans. spam = [2, 4, 6, 8, 10]\n",
    "     spam[2] = 'hello'\n",
    "     # assigning value to 3rd value in list as the data element position start from 0 so we will \n",
    "     assign spam[2] = 'hello'. explained in below Ans.2 code\n",
    "     \n",
    "Let's pretend the spam includes the list ['a','b','c','d'] for the next three queries.\n",
    "\n",
    "3. What is the value of spam[int(int('3' * 2)/11)]?\n",
    "Ans. 'd'\n",
    "     \n",
    "4. What is the value of spam[-1]?\n",
    "Ans. 'd'\n",
    "\n",
    "5. What is the value of spam[:2]?\n",
    "Ans. ['a', 'b']\n",
    "\n",
    "Let's pretend bacon has the list [3.14,'cat',11,'cat',True] for the next three questions.\n",
    "\n",
    "6. What is the value of bacon.index('cat')?\n",
    "Ans. 1\n",
    "\n",
    "7. How does bacon.append(99) change the look of the list value in bacon?\n",
    "Ans. [3.14, 'cat', 11, 'cat', True, 99]\n",
    "\n",
    "8. How does bacon.remove('cat') change the look of the list in bacon?\n",
    "Ans. [3.14, 11, 'cat', True]\n",
    "\n",
    "9. What are the list concatenation and list replication operators?\n",
    "Ans.The operator for list concatenation is +, while the operator for replication is *. Example \n",
    "    in below code Ans.9\n",
    "\n",
    "10. What is difference between the list methods append() and insert()?\n",
    "Ans. append() appends object to the end of the list whereas insert() insert object before index\n",
    "\n",
    "11. What are the two methods for removing items from a list?\n",
    "Ans. The two methods for removing items from a list are remove() and pop()\n",
    "\n",
    "12. Describe how list values and string values are identical\n",
    "Ans. Both strings and lists are sequences hence we can use for loop. Both strings and lists have \n",
    "lengths: a string's length is the number of characters in the string; a list's length is the \n",
    "number of items in the list. Each character in a string as well as each item in a list has a \n",
    "position, also called an index. You can access individual characters in a string, or items in a \n",
    "list, using square-bracket indexing.\n",
    "\n",
    "13. What's the difference between tuples and lists?\n",
    "Ans.The key difference between the tuples and lists is that while the tuples are immutable \n",
    "objects the lists are mutable. This means that tuples cannot be changed while the lists can be \n",
    "modified, for list we use [] brackets and for tuples we use () brackets to enter value or data.\n",
    "\n",
    "14. How do you type a tuple value that only contains the integer 42?\n",
    "Ans.     tup = (42,)\n",
    "         tup\n",
    "output>> (42,)\n",
    "\n",
    "15. How do you get a list value's tuple form? How do you get a tuple value's list form?\n",
    "Ans. List into tuple\n",
    "     lis = [1,2,3,4,5]\n",
    "     tup = tuple(lis)\n",
    "     tup\n",
    "output>> (1, 2, 3, 4, 5)\n",
    "\n",
    "     Tuple into list\n",
    "     tup = (1,2,3,4,5)\n",
    "     lis = list(tup)\n",
    "     lis\n",
    "output>> [1, 2, 3, 4, 5]\n",
    "     \n",
    "16. Variables that \"contain\" list values are not necessarily lists themselves. \n",
    "Instead, what do they contain?\n",
    "Ans.Variables will contain references to list values rather than list values themselves.\n",
    "\n",
    "17. How do you distinguish between copy.copy() and copy.deepcopy()?\n",
    "Ans. A shallow copy creates a new object which stores the reference of the original elements. So,\n",
    "a shallow copy doesn't create a copy of nested objects, instead it just copies the reference of \n",
    "nested objects. This means, a copy process does not recurse or create copies of nested objects \n",
    "itself.this is implemented using “copy.copy()” function after importing copy module.\n",
    "\n",
    "Whereas Deep copy is a process in which the copying process occurs recursively. It means first \n",
    "constructing a new collection object and then recursively populating it with copies of the child\n",
    "objects found in the original. In case of deep copy, a copy of object is copied in other object. \n",
    "It means that any changes made to a copy of object do not reflect in the original object. \n",
    "In python, this is implemented using “copy.deepcopy()” function after importing copy module.\n",
    "  \n",
    "\n",
    "\"\"\""
   ]
  },
  {
   "cell_type": "code",
   "execution_count": 9,
   "metadata": {},
   "outputs": [
    {
     "name": "stdout",
     "output_type": "stream",
     "text": [
      "[2, 4, 6, 8, 10]\n"
     ]
    },
    {
     "data": {
      "text/plain": [
       "[2, 4, 'hello', 8, 10]"
      ]
     },
     "execution_count": 9,
     "metadata": {},
     "output_type": "execute_result"
    }
   ],
   "source": [
    "#Ans.2 \n",
    "spam = [2, 4, 6, 8, 10]\n",
    "print (spam) #spam before assiging 'hello'\n",
    "spam[2] = 'hello' # assigning hello in place of 6 using spam = [2].\n",
    "spam "
   ]
  },
  {
   "cell_type": "code",
   "execution_count": 10,
   "metadata": {},
   "outputs": [
    {
     "data": {
      "text/plain": [
       "'d'"
      ]
     },
     "execution_count": 10,
     "metadata": {},
     "output_type": "execute_result"
    }
   ],
   "source": [
    "#Ans.3 \n",
    "spam = ['a','b','c','d']\n",
    "spam[int(int('3' * 2)/11)]"
   ]
  },
  {
   "cell_type": "code",
   "execution_count": 11,
   "metadata": {},
   "outputs": [
    {
     "data": {
      "text/plain": [
       "'d'"
      ]
     },
     "execution_count": 11,
     "metadata": {},
     "output_type": "execute_result"
    }
   ],
   "source": [
    "#Ans.4\n",
    "spam = ['a','b','c','d']\n",
    "spam[-1]"
   ]
  },
  {
   "cell_type": "code",
   "execution_count": 12,
   "metadata": {},
   "outputs": [
    {
     "data": {
      "text/plain": [
       "['a', 'b']"
      ]
     },
     "execution_count": 12,
     "metadata": {},
     "output_type": "execute_result"
    }
   ],
   "source": [
    "#Ans.5\n",
    "spam = ['a','b','c','d']\n",
    "spam[:2]"
   ]
  },
  {
   "cell_type": "code",
   "execution_count": 13,
   "metadata": {},
   "outputs": [
    {
     "data": {
      "text/plain": [
       "1"
      ]
     },
     "execution_count": 13,
     "metadata": {},
     "output_type": "execute_result"
    }
   ],
   "source": [
    "#Ans.6\n",
    "bacon = [3.14,'cat',11,'cat',True]\n",
    "bacon.index('cat')"
   ]
  },
  {
   "cell_type": "code",
   "execution_count": 14,
   "metadata": {},
   "outputs": [
    {
     "data": {
      "text/plain": [
       "[3.14, 'cat', 11, 'cat', True, 99]"
      ]
     },
     "execution_count": 14,
     "metadata": {},
     "output_type": "execute_result"
    }
   ],
   "source": [
    "#Ans.7\n",
    "bacon = [3.14,'cat',11,'cat',True]\n",
    "bacon.append(99)\n",
    "bacon"
   ]
  },
  {
   "cell_type": "code",
   "execution_count": 15,
   "metadata": {},
   "outputs": [
    {
     "data": {
      "text/plain": [
       "[3.14, 11, 'cat', True]"
      ]
     },
     "execution_count": 15,
     "metadata": {},
     "output_type": "execute_result"
    }
   ],
   "source": [
    "#Ans.8\n",
    "bacon = [3.14,'cat',11,'cat',True]\n",
    "bacon.remove('cat')\n",
    "bacon"
   ]
  },
  {
   "cell_type": "code",
   "execution_count": 16,
   "metadata": {},
   "outputs": [
    {
     "data": {
      "text/plain": [
       "[1, 2, 3, 4, 5, 6]"
      ]
     },
     "execution_count": 16,
     "metadata": {},
     "output_type": "execute_result"
    }
   ],
   "source": [
    "#Ans.9 list concatenation\n",
    "l1 = [1,2,3]\n",
    "l2 = [4,5,6]\n",
    "l3 = l1 + l2 #list concatenation is +\n",
    "l3"
   ]
  },
  {
   "cell_type": "code",
   "execution_count": 17,
   "metadata": {},
   "outputs": [
    {
     "data": {
      "text/plain": [
       "[1, 2, 3, 1, 2, 3]"
      ]
     },
     "execution_count": 17,
     "metadata": {},
     "output_type": "execute_result"
    }
   ],
   "source": [
    "#Ans.9 list replication \n",
    "l1 = [1,2,3]\n",
    "l2 = l1 *2 #replication is *\n",
    "l2"
   ]
  },
  {
   "cell_type": "code",
   "execution_count": 18,
   "metadata": {},
   "outputs": [
    {
     "data": {
      "text/plain": [
       "[1, 2, 3, 4, 5, 6]"
      ]
     },
     "execution_count": 18,
     "metadata": {},
     "output_type": "execute_result"
    }
   ],
   "source": [
    "#Ans.10 append example\n",
    "l1 = [1,2,3,4,5]\n",
    "l1.append(6) #append used\n",
    "l1"
   ]
  },
  {
   "cell_type": "code",
   "execution_count": 20,
   "metadata": {},
   "outputs": [
    {
     "data": {
      "text/plain": [
       "[1, 2, 3, 4, 5, 6]"
      ]
     },
     "execution_count": 20,
     "metadata": {},
     "output_type": "execute_result"
    }
   ],
   "source": [
    "#Ans.10 insert example\n",
    "l2 = [1,3,4,5,6]\n",
    "l2.insert(1,2) #insert 2\n",
    "l2"
   ]
  },
  {
   "cell_type": "code",
   "execution_count": 21,
   "metadata": {},
   "outputs": [
    {
     "data": {
      "text/plain": [
       "[1, 2, 3, 4, 5]"
      ]
     },
     "execution_count": 21,
     "metadata": {},
     "output_type": "execute_result"
    }
   ],
   "source": [
    "#Ans.11 Removing method using remove()\n",
    "l1 = [1,11,2,3,4,5]\n",
    "l1.remove(11) #remove() used\n",
    "l1"
   ]
  },
  {
   "cell_type": "code",
   "execution_count": 25,
   "metadata": {},
   "outputs": [
    {
     "data": {
      "text/plain": [
       "[1, 2, 3, 4, 5]"
      ]
     },
     "execution_count": 25,
     "metadata": {},
     "output_type": "execute_result"
    }
   ],
   "source": [
    "#Ans.11 Removing method using pop()\n",
    "l1 = [1,11,2,3,4,5]\n",
    "l1.pop(1) #pop() used index value used to remove\n",
    "l1"
   ]
  },
  {
   "cell_type": "code",
   "execution_count": 27,
   "metadata": {},
   "outputs": [
    {
     "data": {
      "text/plain": [
       "(42,)"
      ]
     },
     "execution_count": 27,
     "metadata": {},
     "output_type": "execute_result"
    }
   ],
   "source": [
    "#Ans.14\n",
    "tup = (42,)\n",
    "tup"
   ]
  },
  {
   "cell_type": "code",
   "execution_count": 28,
   "metadata": {},
   "outputs": [
    {
     "data": {
      "text/plain": [
       "(1, 2, 3, 4, 5)"
      ]
     },
     "execution_count": 28,
     "metadata": {},
     "output_type": "execute_result"
    }
   ],
   "source": [
    "#Ans.15 List into tuple\n",
    "lis = [1,2,3,4,5]\n",
    "tup = tuple(lis)\n",
    "tup"
   ]
  },
  {
   "cell_type": "code",
   "execution_count": 29,
   "metadata": {},
   "outputs": [
    {
     "data": {
      "text/plain": [
       "[1, 2, 3, 4, 5]"
      ]
     },
     "execution_count": 29,
     "metadata": {},
     "output_type": "execute_result"
    }
   ],
   "source": [
    "#Ans.15 Tuple into list\n",
    "tup = (1,2,3,4,5)\n",
    "lis = list(tup)\n",
    "lis"
   ]
  },
  {
   "cell_type": "code",
   "execution_count": null,
   "metadata": {},
   "outputs": [],
   "source": []
  }
 ],
 "metadata": {
  "kernelspec": {
   "display_name": "Python 3",
   "language": "python",
   "name": "python3"
  },
  "language_info": {
   "codemirror_mode": {
    "name": "ipython",
    "version": 3
   },
   "file_extension": ".py",
   "mimetype": "text/x-python",
   "name": "python",
   "nbconvert_exporter": "python",
   "pygments_lexer": "ipython3",
   "version": "3.8.3"
  }
 },
 "nbformat": 4,
 "nbformat_minor": 4
}
