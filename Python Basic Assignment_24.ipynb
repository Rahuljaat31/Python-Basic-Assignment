{
 "cells": [
  {
   "cell_type": "code",
   "execution_count": null,
   "metadata": {},
   "outputs": [],
   "source": [
    "1. What is the relationship between def statements and lambda expressions ?"
   ]
  },
  {
   "cell_type": "markdown",
   "metadata": {},
   "source": [
    "Ans.1 def statement is used to create a normal function, whereas lamba expressions are used to create Anonymous functions. which can be assigned to a variable and can be called using the variable later in function.\n",
    "\n",
    "Lambda's body is a single expression and not a block of statements like def statement. The lambda expression's body is similar to what we'd put in a def body's return statement. We simply type the result as an expression instead of explicitly returning it. Because it is limited to an expression, a lambda is less general than a def statement."
   ]
  },
  {
   "cell_type": "code",
   "execution_count": null,
   "metadata": {},
   "outputs": [],
   "source": [
    "2. What is the benefit of lambda?"
   ]
  },
  {
   "cell_type": "markdown",
   "metadata": {},
   "source": [
    "Ans.2 Benefits of lambda expressions are:\n",
    "\n",
    "1. Lamda expressions can be used to create Nameless/Anonymous functions inside some complex functions if we are planning to use it only once.\n",
    "\n",
    "2. Lamda expressions are Moderate to small functions can be created in a single line.\n",
    "\n",
    "3. Fuctions created using lambda expressions can be assigned to a variable and can be used by simply calling the variable."
   ]
  },
  {
   "cell_type": "code",
   "execution_count": null,
   "metadata": {},
   "outputs": [],
   "source": [
    "3. Compare and contrast map, filter, and reduce."
   ]
  },
  {
   "cell_type": "markdown",
   "metadata": {},
   "source": [
    "Ans.3 Differences between map, filter and reduce are:\n",
    "\n",
    "A. map(): The map() function is a type of higher-order. This function takes another function as a parameter along with a sequence of iterables and returns an output after applying the function to each iterable present in the sequence.\n",
    "\n",
    "B. filter(): The filter() function is used to create an output list consisting of values for which the function returns true.\n",
    "\n",
    "C. reduce(): The reduce() function, as the name describes, applies a given function to the iterables and returns a single value"
   ]
  },
  {
   "cell_type": "code",
   "execution_count": 3,
   "metadata": {},
   "outputs": [
    {
     "name": "stdout",
     "output_type": "stream",
     "text": [
      "map() [2, 4, 6, 8]\n",
      "filter() [1, 3]\n",
      "reduce() 21\n"
     ]
    }
   ],
   "source": [
    "#Ans.3 Example\n",
    "from functools import reduce\n",
    "\n",
    "print('map()',list(map(lambda x:x+x, [1,2,3,4])))# map function\n",
    "\n",
    "print('filter()',list(filter(lambda x:x%2 !=0, [1,2,3,4])))# fitler function\n",
    "\n",
    "print('reduce()',reduce(lambda x,y:x+y, [1,2,3,4,5,6]))# reduce function"
   ]
  },
  {
   "cell_type": "code",
   "execution_count": null,
   "metadata": {},
   "outputs": [],
   "source": [
    "4. What are function annotations, and how are they used?"
   ]
  },
  {
   "cell_type": "markdown",
   "metadata": {},
   "source": [
    "Ans.4 Function annotations provide a way of associating various parts of a function with arbitrary pythoncexpressions at compile time. \n",
    "\n",
    "Annotations of simple parameters def func(x: expression, y: expression = 20):\n",
    "\n",
    "\n",
    "Annotations for excess parameters are as − def func (**args: expression, **kwargs: expression):\n",
    "\n",
    "Example:\n",
    "def func(x:'annotating x', y: 'annotating y', z: int) -> float: print(x + y + z)"
   ]
  },
  {
   "cell_type": "code",
   "execution_count": null,
   "metadata": {},
   "outputs": [],
   "source": [
    "5. What are recursive functions, and how are they used?"
   ]
  },
  {
   "cell_type": "markdown",
   "metadata": {},
   "source": [
    "Ans.5 \n",
    "Recursion is the process of defining something in terms of itself. A function can call other functions. A recursive function is a function that calls itself during its execution. The process may repeat several times, outputting the result and the end of each iteration. These types of construct are termed as recursive functions.\n",
    "\n",
    "Example: \n",
    "\n",
    "def factorial(x):\n",
    "\n",
    "    \"This is a recursive functito find the factorial of an integer\"\n",
    "    \n",
    "    if x == 1:\n",
    "    \n",
    "        return 1\n",
    "        \n",
    "    else:\n",
    "    \n",
    "        return (x * factorial(x-1))\n",
    "        \n",
    "num = 3\n",
    "\n",
    "print(\"The factorial of\", num, \"is\", factorial(num))"
   ]
  },
  {
   "cell_type": "code",
   "execution_count": null,
   "metadata": {},
   "outputs": [],
   "source": [
    "6. What are some general design guidelines for coding functions?"
   ]
  },
  {
   "cell_type": "markdown",
   "metadata": {},
   "source": [
    "Ans.6 Some of the general design guidelines for coding functions are:\n",
    "\n",
    "Always use a docstring to explain the functionality of the function.\n",
    "\n",
    "Avoid using or limited use of global variables.\n",
    "\n",
    "Proper Identation to increase the code readability.\n",
    "\n",
    "Try to follow a naming convention for function names (pascalCase or camelCase) and stick with the same convention throughout the application.\n",
    "\n",
    "Avoid using digits while choosing a variable name.\n",
    "\n",
    "Try to use a name for the function which conveys the purpose of the function.\n",
    "\n",
    "Local variables should be named using camelCase format (ex: localVariable) whereas Global variables names should be using PascalCase (ex:GlobalVariable).\n",
    "\n",
    "Constant should be represented in allcaps (ex:CONSTANT)."
   ]
  },
  {
   "cell_type": "code",
   "execution_count": null,
   "metadata": {},
   "outputs": [],
   "source": [
    "7. Name three or more ways that functions can communicate results to a caller."
   ]
  },
  {
   "cell_type": "markdown",
   "metadata": {},
   "source": [
    "Ans.7 Some of the ways in which a function can communicate with the calling function is:\n",
    "\n",
    "print\n",
    "\n",
    "return\n",
    "\n",
    "yield\n",
    "\n",
    "def"
   ]
  }
 ],
 "metadata": {
  "kernelspec": {
   "display_name": "Python 3",
   "language": "python",
   "name": "python3"
  },
  "language_info": {
   "codemirror_mode": {
    "name": "ipython",
    "version": 3
   },
   "file_extension": ".py",
   "mimetype": "text/x-python",
   "name": "python",
   "nbconvert_exporter": "python",
   "pygments_lexer": "ipython3",
   "version": "3.8.3"
  }
 },
 "nbformat": 4,
 "nbformat_minor": 4
}
