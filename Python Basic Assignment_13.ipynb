{
 "cells": [
  {
   "cell_type": "markdown",
   "metadata": {},
   "source": [
    "Ques.1 What advantages do Excel spreadsheets have over CSV spreadsheets?\n",
    "\n",
    "Ans.1 Excel can perform VBA Coding, functions, formulas and create summaries easily when compared to CSV.CSV cannot perform VBA Coding, functions, formulas and create summaries easily when compared to Excel.\n",
    "\n",
    "Reading large data set is much easier for the end-user to read, comprehend and understand when compared to CSV.Reading large data set is much complicated for the end-user to read, comprehend and understand when compared to Excel.\n",
    "\n",
    "Excel also provides the user option for external linking of data from other sources, and also, the user can do custom add-ins.No such feature is available in CSV format when it is compared with Excel."
   ]
  },
  {
   "cell_type": "markdown",
   "metadata": {},
   "source": [
    "Ques.2 What do you pass to csv.reader() and csv.writer() to create reader and writer objects?\n",
    "\n",
    "Ans.2 We will pass File object obtained from a call to open()."
   ]
  },
  {
   "cell_type": "code",
   "execution_count": null,
   "metadata": {},
   "outputs": [],
   "source": [
    "#Example for Ans.2\n",
    "import csv\n",
    "file_csv = open('fbtracker.csv')\n",
    "filereader = csv.reader(file_csv)\n",
    "fileData = list(filereader)\n",
    "fileData"
   ]
  },
  {
   "cell_type": "markdown",
   "metadata": {},
   "source": [
    "Ques.3 What modes do File objects for reader and writer objects need to be opened in?\n",
    "\n",
    "Ans.3 File objects are opened in read-binary ('rb') for Reader objects and write-binary ('wb') for Writer objects."
   ]
  },
  {
   "cell_type": "markdown",
   "metadata": {},
   "source": [
    "Ques.4 What method takes a list argument and writes it to a CSV file?\n",
    "\n",
    "Ans.4  csv.writer class provides two methods for writing to CSV writerow() and writerows(). writerow() method writes a single row at a time. Whereas writerows() method is used to write multiple rows at a time."
   ]
  },
  {
   "cell_type": "code",
   "execution_count": null,
   "metadata": {},
   "outputs": [],
   "source": [
    "#Example 4\n",
    "import csv      \n",
    "fields = ['Name', 'Empid', 'Band', 'Location'] #assigning column headings \n",
    "rows = [ \n",
    "            ['Ram', '101', 'A1', 'Delhi'],  #assigning raw data\n",
    "            ['Lucky', '102', 'A2', 'Chennai'], \n",
    "            ['Tom', '103', 'B1', 'Mumbai']\n",
    "       ] \n",
    "with open(\"fbtracker.csv\", 'w') as csvfile: \n",
    "    csvwriter = csv.writer(csvfile) # creating a csv writer object \n",
    "    csvwriter.writerow(fields) # writing fields \n",
    "    csvwriter.writerows(rows) # writing data rows "
   ]
  },
  {
   "cell_type": "markdown",
   "metadata": {},
   "source": [
    "Ques.5 What do the keyword arguments delimiter and line terminator do?\n",
    "\n",
    "Ans.5 The delimiter argument changes the string used to separate cells in a row.\n",
    "\n",
    "The line terminator argument changes the string used to separate rows.\n"
   ]
  },
  {
   "cell_type": "markdown",
   "metadata": {},
   "source": [
    "Ans.6 What function takes a string of JSON data and returns a Python data structure?\n",
    "\n",
    "Ans.6  json.loads() takes a string of JSON data and returns a Python data structure."
   ]
  },
  {
   "cell_type": "markdown",
   "metadata": {},
   "source": [
    "Ques.7 What function takes a Python data structure and returns a string of JSON data?\n",
    "\n",
    "Ans.7 json.dumps() takes a Python data structure and returns a string of JSON data."
   ]
  }
 ],
 "metadata": {
  "kernelspec": {
   "display_name": "Python 3",
   "language": "python",
   "name": "python3"
  },
  "language_info": {
   "codemirror_mode": {
    "name": "ipython",
    "version": 3
   },
   "file_extension": ".py",
   "mimetype": "text/x-python",
   "name": "python",
   "nbconvert_exporter": "python",
   "pygments_lexer": "ipython3",
   "version": "3.8.3"
  }
 },
 "nbformat": 4,
 "nbformat_minor": 4
}
