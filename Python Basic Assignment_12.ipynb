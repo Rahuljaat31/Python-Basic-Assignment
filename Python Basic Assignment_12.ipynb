{
 "cells": [
  {
   "cell_type": "code",
   "execution_count": 1,
   "metadata": {},
   "outputs": [
    {
     "name": "stdout",
     "output_type": "stream",
     "text": [
      "Collecting PyPDF2\n",
      "  Downloading PyPDF2-2.8.0-py3-none-any.whl (204 kB)\n",
      "Requirement already satisfied: typing-extensions; python_version < \"3.10\" in c:\\users\\rahul\\anaconda3\\lib\\site-packages (from PyPDF2) (3.7.4.2)\n",
      "Installing collected packages: PyPDF2\n",
      "Successfully installed PyPDF2-2.8.0\n"
     ]
    }
   ],
   "source": [
    "!pip install PyPDF2"
   ]
  },
  {
   "cell_type": "markdown",
   "metadata": {},
   "source": [
    "Ques.1 In what modes should the PdfFileReader() and PdfFileWriter() File objects will be opened?\n",
    "\n",
    "\n",
    "Ans.1 PdfFileReader() should be opened in read-binary mode. PdfFileWriter() should be opened in write-binary mode."
   ]
  },
  {
   "cell_type": "markdown",
   "metadata": {},
   "source": [
    "Ques.2 From a PdfFileReader object, how do you get a Page object for page 5?\n",
    "\n",
    "\n",
    "Ans.2 PdfFileReader class provides a method called getPage(page_no) to get a page object."
   ]
  },
  {
   "cell_type": "code",
   "execution_count": 1,
   "metadata": {},
   "outputs": [
    {
     "data": {
      "text/plain": [
       "'Common questions \\n\\uf0d8How much assignment ,projects I have to complete  for  job guarantee ?\\n\\uf0d8How much  time I have to spend for this course after class ?\\n\\uf0d8How I am suppose to prepare my profile for data science ?\\n\\uf0d8How I  can showcase my project and experience in data science ?\\n\\uf0d8How will be job market after sometime in data science ?\\n\\uf0d8Do I have to prepare for data structure and algorithm for  data science job?\\n\\uf0d8What kind of job I will be able to get in data science field ?\\n\\uf0d8What if I have a career gap ?\\n\\uf0d8How iNeuron will help us with interview preparation ?\\n'"
      ]
     },
     "execution_count": 1,
     "metadata": {},
     "output_type": "execute_result"
    }
   ],
   "source": [
    "import PyPDF2 as pdf\n",
    "pdfFileObj = open(\"FullStackDataScience.pdf\",'rb')\n",
    "pdfReader = pdf.PdfFileReader(pdfFileObj)\n",
    "pageObj = pdfReader.getPage(5)\n",
    "pageObj.extractText()"
   ]
  },
  {
   "cell_type": "markdown",
   "metadata": {},
   "source": [
    "Ques.3 What PdfFileReader variable stores the number of pages in the PDF document?\n",
    "\n",
    "Ans.3 numPages"
   ]
  },
  {
   "cell_type": "code",
   "execution_count": 2,
   "metadata": {},
   "outputs": [
    {
     "data": {
      "text/plain": [
       "10"
      ]
     },
     "execution_count": 2,
     "metadata": {},
     "output_type": "execute_result"
    }
   ],
   "source": [
    "#Ans.3 \n",
    "import PyPDF2 as pdf\n",
    "pdfFileObj = open(\"FullStackDataScience.pdf\",'rb')\n",
    "pdfReader = pdf.PdfFileReader(pdfFileObj)\n",
    "pdfReader.numPages"
   ]
  },
  {
   "cell_type": "markdown",
   "metadata": {},
   "source": [
    "Ques.4 If a PdfFileReader object’s PDF is encrypted with the password swordfish, what must you do\n",
    "       before you can obtain Page objects from it?\n",
    "       \n",
    "       \n",
    "Ans.4 We have to decrypt the pdf by using obj.decrypt(\"swordfish\") before obtaining page object."
   ]
  },
  {
   "cell_type": "code",
   "execution_count": null,
   "metadata": {},
   "outputs": [],
   "source": [
    "#Ans.4 Example code\n",
    "#Example Code:\n",
    "from PyPDF2 import PdfFileReader\n",
    "pdf_reader = PdfFileReader(file_path)\n",
    "if pdf_reader.isEncrypted: # to check whether the pdf is encrypted or not\n",
    "    pdf_reader.decrypt(\"swordfish\")\n",
    "for page in pdf_reader.pages:\n",
    "    print(page.extractText()) # to print the text data of a page from pdf"
   ]
  },
  {
   "cell_type": "markdown",
   "metadata": {},
   "source": [
    "Ques.5 What methods do you use to rotate a page?\n",
    "\n",
    "Ans.5 The rotateClockwise() and rotateCounterClockwise() methods. The degrees to rotate is passed       as an integer argument. The PyPDF2 package only allows you to rotate a page in increments         of 90 degrees. You will receive an AssertionError otherwise.\n",
    "\n",
    "      For example pageObj.rotateClockwise(). "
   ]
  },
  {
   "cell_type": "markdown",
   "metadata": {},
   "source": [
    "Ques.6 What is the difference between a Run object and a Paragraph object?\n",
    "\n",
    "Ans. 6 Paragraph Object : A document contains multiple paragraphs. A paragraph begins on a new          line and contains multiple runs. The Document object contains a list of Paragraph objects        for the paragraphs in the document. Paragraphs object is needed to get paragraph from a          document(A new paragraph begins whenever the user presses ENTER or RETURN while typing in        a Word document.)\n",
    "\n",
    "   Run Objects : Runs are contiguous groups of characters within a paragraph with the same          style.Runs object is needed whenever text style changes in a paragraph.\n",
    "\n"
   ]
  },
  {
   "cell_type": "markdown",
   "metadata": {},
   "source": [
    "Ques.7 How do you obtain a list of Paragraph objects for a Document object that’s stored in a            variable named doc?\n",
    "\n",
    "Ans.7 We can obtain a list of Paragraph objects for a Document object that’s stored in a            variable named doc by using doc.paragraphs."
   ]
  },
  {
   "cell_type": "code",
   "execution_count": null,
   "metadata": {},
   "outputs": [],
   "source": [
    "#!pip install python-docx\n",
    "from docx import Document\n",
    "doc = Document(\"abc.docx\") # Path of the abc.Docx file\n",
    "print(doc.paragraphs) # Prints the list of Paragraph objects for a Document\n",
    "for paragraph in doc.paragraphs:\n",
    "    print(paragraph.text) # Prints the text in the paragraph"
   ]
  },
  {
   "cell_type": "markdown",
   "metadata": {},
   "source": [
    "Ques.8 What type of object has bold, underline, italic, strike, and outline variables?\n",
    "\n",
    "Ans.8 Run object has bold, underline, italic, strike, and outline variables.\n"
   ]
  },
  {
   "cell_type": "markdown",
   "metadata": {},
   "source": [
    "Ques.9 What is the difference between False, True, and None for the bold variable?\n",
    "\n",
    "Ans.9 False = bold is always disabled, \n",
    "      \n",
    "      True = bold is always enabled no matter what other styles are applied to the run, \n",
    "      \n",
    "      None = defaults to whatever the run's style set to"
   ]
  },
  {
   "cell_type": "markdown",
   "metadata": {},
   "source": [
    "Ques.10 How do you create a Document object for a new Word document?"
   ]
  },
  {
   "cell_type": "code",
   "execution_count": null,
   "metadata": {},
   "outputs": [],
   "source": [
    "#Ans.10 \n",
    "!pip install python-docx\n",
    "from docx import Document\n",
    "document = Document()\n",
    "document.save('document.docx') #creates document name document.docx"
   ]
  },
  {
   "cell_type": "markdown",
   "metadata": {},
   "source": [
    "Ques.11 How do you add a paragraph with the text Hello, there! to a Document object stored in a variable named doc? "
   ]
  },
  {
   "cell_type": "code",
   "execution_count": null,
   "metadata": {},
   "outputs": [],
   "source": [
    "#Ans.11 \n",
    "from docx import Document\n",
    "doc = Document()\n",
    "doc.add_paragraph('Hello, there!')\n",
    "doc.save('document.docx')"
   ]
  },
  {
   "cell_type": "markdown",
   "metadata": {},
   "source": [
    "Ques.12 What integers represent the levels of headings available in Word documents?\n",
    "\n",
    "\n",
    "Ans.12 The levels for a heading in a word document can be specified by using the level attribute inside the add_heading method. \n",
    "\n",
    "There are 5 levels starting from 0 to 4. where level 0 makes a headline with the horizontal line below the text, whereas the heading level 1 is the main heading. Similarly, the other headings are sub-heading with font-sizes in decreasing order."
   ]
  }
 ],
 "metadata": {
  "kernelspec": {
   "display_name": "Python 3",
   "language": "python",
   "name": "python3"
  },
  "language_info": {
   "codemirror_mode": {
    "name": "ipython",
    "version": 3
   },
   "file_extension": ".py",
   "mimetype": "text/x-python",
   "name": "python",
   "nbconvert_exporter": "python",
   "pygments_lexer": "ipython3",
   "version": "3.8.3"
  }
 },
 "nbformat": 4,
 "nbformat_minor": 4
}
