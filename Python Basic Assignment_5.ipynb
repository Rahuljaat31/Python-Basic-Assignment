{
 "cells": [
  {
   "cell_type": "code",
   "execution_count": null,
   "metadata": {},
   "outputs": [],
   "source": [
    "\"\"\"\n",
    "1. What does an empty dictionary's code look like?\n",
    "Ans. empty_dict = {} \n",
    "\n",
    "2. What is the value of a dictionary value with the key 'foo' and the value 42?\n",
    "Ans. d = {\"foo\":42}\n",
    "     d\n",
    "     output>> {'foo': 42} #value of a dictionary d also explained in below code\n",
    "\n",
    "3. What is the most significant distinction between a dictionary and a list?\n",
    "Ans. a. List is a mutable data type whereas Dictionary is a mutable data type, but keys are to be \n",
    "     of immutable type and values can be of any type. \n",
    "     b. List is enclosed within the square brackets [ ] whereas Dictionary is enclosed within the \n",
    "     curly bracket { }\n",
    "     c.List has a proper way of indexing whereas Dictionary is a combination of keys and values.\n",
    "     d.List is enclosed in [] square brackets whereas Dictionary is enclosed in {} curly \n",
    "     brackets.\n",
    "     \n",
    "4. What happens if you try to access spam['foo'] if spam is {'bar': 100}?\n",
    "Ans. spam['foo'] will give key error\n",
    "     ---------------------------------------------------------------------------\n",
    "     KeyError                                  Traceback (most recent call last)\n",
    "     <ipython-input-63-56a8e50c7ff8> in <module>\n",
    "         1 spam = {'bar': 100}\n",
    "     ----> 2 spam['foo']\n",
    "\n",
    "     KeyError: 'foo'\n",
    "\n",
    "5. If a dictionary is stored in spam, what is the difference between the expressions 'cat' in \n",
    "   spam and 'cat' in spam.keys()?\n",
    "Ans. Expressions 'cat' in spam and 'cat' in spam.keys() will have same output.Both expression\n",
    "     will check for 'cat' whether it is a key of dictionary and returns True as 'cat' is key of \n",
    "     dictionary. \n",
    "     Explained via code example below\n",
    "\n",
    "6. If a dictionary is stored in spam, what is the difference between the expressions 'cat' in \n",
    "   spam and 'cat' in spam.values()?\n",
    "Ans.6 #'cat' in spam checks if there is a 'cat' key in the dictionary\n",
    "    #'cat' in spam.values() checks if there is a value 'cat' for one of the keys in spam.\n",
    "    Explained via code example below\n",
    "\n",
    "7. What is a shortcut for the following code?\n",
    "   if 'color' not in spam:\n",
    "   spam['color'] = 'black'\n",
    "Ans.7 spam.setdefault('color', 'black')\n",
    "      Explained via code example below\n",
    "\n",
    "8. How do you \"pretty print\" dictionary values using which module and function?\n",
    "Ans.8 First we have declare an array of dictionaries. Afterward,import pprint and pretty print \n",
    "    it using the function pprint.pprint(). Explained in below code\n",
    "\"\"\""
   ]
  },
  {
   "cell_type": "code",
   "execution_count": 1,
   "metadata": {},
   "outputs": [
    {
     "data": {
      "text/plain": [
       "dict"
      ]
     },
     "execution_count": 1,
     "metadata": {},
     "output_type": "execute_result"
    }
   ],
   "source": [
    "#Ans.1\n",
    "empty_dict = {}\n",
    "type(empty_dict)"
   ]
  },
  {
   "cell_type": "code",
   "execution_count": 2,
   "metadata": {},
   "outputs": [
    {
     "data": {
      "text/plain": [
       "{}"
      ]
     },
     "execution_count": 2,
     "metadata": {},
     "output_type": "execute_result"
    }
   ],
   "source": [
    "empty_dict"
   ]
  },
  {
   "cell_type": "code",
   "execution_count": 3,
   "metadata": {},
   "outputs": [
    {
     "data": {
      "text/plain": [
       "{'foo': 42}"
      ]
     },
     "execution_count": 3,
     "metadata": {},
     "output_type": "execute_result"
    }
   ],
   "source": [
    "#Ans.2 \n",
    "d = {\"foo\":42} #value of a dictionary d \n",
    "d"
   ]
  },
  {
   "cell_type": "code",
   "execution_count": 8,
   "metadata": {},
   "outputs": [
    {
     "data": {
      "text/plain": [
       "True"
      ]
     },
     "execution_count": 8,
     "metadata": {},
     "output_type": "execute_result"
    }
   ],
   "source": [
    "#Ans.5 'cat' in spam \n",
    "spam = {\"cat\":1}\n",
    "'cat' in spam"
   ]
  },
  {
   "cell_type": "code",
   "execution_count": 7,
   "metadata": {},
   "outputs": [
    {
     "data": {
      "text/plain": [
       "True"
      ]
     },
     "execution_count": 7,
     "metadata": {},
     "output_type": "execute_result"
    }
   ],
   "source": [
    "#Ans.5 'cat' in spam.keys()\n",
    "'cat' in spam.keys()"
   ]
  },
  {
   "cell_type": "code",
   "execution_count": 9,
   "metadata": {},
   "outputs": [
    {
     "data": {
      "text/plain": [
       "True"
      ]
     },
     "execution_count": 9,
     "metadata": {},
     "output_type": "execute_result"
    }
   ],
   "source": [
    "#Ans.6\n",
    "spam = {\"cat\":1}\n",
    "'cat' in spam"
   ]
  },
  {
   "cell_type": "code",
   "execution_count": 10,
   "metadata": {},
   "outputs": [
    {
     "data": {
      "text/plain": [
       "False"
      ]
     },
     "execution_count": 10,
     "metadata": {},
     "output_type": "execute_result"
    }
   ],
   "source": [
    "#Ans.6\n",
    "spam = {\"cat\":1}\n",
    "'cat' in spam.values()"
   ]
  },
  {
   "cell_type": "code",
   "execution_count": 1,
   "metadata": {},
   "outputs": [
    {
     "name": "stdout",
     "output_type": "stream",
     "text": [
      "{'cat': 1, 'color': 'black'}\n"
     ]
    }
   ],
   "source": [
    "#Ans.7\n",
    "spam = {\"cat\":1}\n",
    "if 'color' not in spam:\n",
    "    spam['color'] = 'black'\n",
    "    print(spam)"
   ]
  },
  {
   "cell_type": "code",
   "execution_count": 2,
   "metadata": {},
   "outputs": [
    {
     "name": "stdout",
     "output_type": "stream",
     "text": [
      "{'cat': 1, 'color': 'black'}\n"
     ]
    }
   ],
   "source": [
    "#Ans.7\n",
    "spam.setdefault('color', 'black')\n",
    "print(spam)"
   ]
  },
  {
   "cell_type": "code",
   "execution_count": 3,
   "metadata": {},
   "outputs": [
    {
     "name": "stdout",
     "output_type": "stream",
     "text": [
      "[{'Age': '35', 'Country': 'India', 'Name': 'Rahul'},\n",
      " {'Age': '40', 'Country': 'China', 'Name': 'Jhon'},\n",
      " {'Age': '45', 'Country': 'UK', 'Name': 'Tom'},\n",
      " {'Age': '50', 'Country': 'USA', 'Name': 'Jerry'}]\n"
     ]
    }
   ],
   "source": [
    "#Ans.8 #using pretty print\n",
    "import pprint\n",
    "di = [ {'Name': 'Rahul', 'Age': '35', 'Country': 'India'},\n",
    "  {'Name': 'Jhon', 'Age': '40', 'Country': 'China'},\n",
    "  {'Name': 'Tom', 'Age': '45', 'Country': 'UK'},\n",
    "  {'Name': 'Jerry', 'Age': '50', 'Country': 'USA'}\n",
    "]\n",
    "pprint.pprint(di)"
   ]
  },
  {
   "cell_type": "code",
   "execution_count": 4,
   "metadata": {},
   "outputs": [
    {
     "name": "stdout",
     "output_type": "stream",
     "text": [
      "[{'Name': 'Rahul', 'Age': '35', 'Country': 'India'}, {'Name': 'Jhon', 'Age': '40', 'Country': 'China'}, {'Name': 'Tom', 'Age': '45', 'Country': 'UK'}, {'Name': 'Jerry', 'Age': '50', 'Country': 'USA'}]\n"
     ]
    }
   ],
   "source": [
    "#Ans.8 #using normal print function for difference\n",
    "print(di)"
   ]
  },
  {
   "cell_type": "code",
   "execution_count": null,
   "metadata": {},
   "outputs": [],
   "source": []
  }
 ],
 "metadata": {
  "kernelspec": {
   "display_name": "Python 3",
   "language": "python",
   "name": "python3"
  },
  "language_info": {
   "codemirror_mode": {
    "name": "ipython",
    "version": 3
   },
   "file_extension": ".py",
   "mimetype": "text/x-python",
   "name": "python",
   "nbconvert_exporter": "python",
   "pygments_lexer": "ipython3",
   "version": "3.8.3"
  }
 },
 "nbformat": 4,
 "nbformat_minor": 4
}
