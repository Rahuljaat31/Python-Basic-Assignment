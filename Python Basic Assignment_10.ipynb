{
 "cells": [
  {
   "cell_type": "markdown",
   "metadata": {},
   "source": [
    "Ques.1 How do you distinguish between shutil.copy() and shutil.copytree()?\n",
    "\n",
    "Ans.1 shutil. copy() function will copy a single file, while shutil. copytree() will copy an           entire folder, along with all its contents.\n",
    "\n",
    "\n",
    "Ques.2 What function is used to rename files?\n",
    "\n",
    "Ans.2 rename() method in Python is used to rename a file or directory.\n",
    "     \n",
    "      import os\n",
    "      \n",
    "      os.rename(\"text.txt\",\"testnew.txt\")\n",
    "\n",
    "\n",
    "Ques.3 What is the difference between the delete functions in the send2trash and shutil modules?\n",
    "\n",
    "Ans.3 The send2trash functions will move a file or folder to the recycle bin, while shutil             functions will permanently delete files and folders.\n",
    "\n",
    "\n",
    "Ques.4 ZipFile objects have a close() method just like File objects’ close() method. What ZipFile        method is equivalent to File objects’ open() method?\n",
    "\n",
    "Ans.4 ZipFile Module provides a method called as zipfile.ZipFile() to read and write to zipFiles.       It takes arugments like filename and mode etc zipfile.ZipFile('filename', mode = 'r')\n",
    "\n",
    "\n",
    "Ques.5 Create a programme that searches a folder tree for files with a certain file extension            (such as .pdf or .jpg). Copy these files from whatever location they are in to a new              folder.\n",
    "\n",
    "Ans.5 Explained in below code"
   ]
  },
  {
   "cell_type": "code",
   "execution_count": 3,
   "metadata": {},
   "outputs": [
    {
     "name": "stdout",
     "output_type": "stream",
     "text": [
      "Looking in C:\\Users\\rahul\\Desktop\\sourcefolder for files with extensions of .mp3, .pdf, .jpg\n",
      "Coping C:\\Users\\rahul\\Desktop\\sourcefolder\\Axis Bank CardNetjul22.pdf to C:\\Users\\rahul\\Desktop\\Newfolder\n",
      "Coping C:\\Users\\rahul\\Desktop\\sourcefolder\\Ek Pal Ke Liye{iSHAT @KKlivenow}.mp3 to C:\\Users\\rahul\\Desktop\\Newfolder\n",
      "Coping C:\\Users\\rahul\\Desktop\\sourcefolder\\vivjul22.jpg to C:\\Users\\rahul\\Desktop\\Newfolder\n"
     ]
    }
   ],
   "source": [
    "#Ans.5 function to search and copy\n",
    "import os, shutil\n",
    "\n",
    "def search_copy(sourc, extens, dest):\n",
    "    folder = os.path.abspath(sourc)\n",
    "    dest = os.path.abspath(dest)\n",
    "    print('Looking in', sourc, 'for files with extensions of', ', '.join(extens))\n",
    "    for foldername, subfolders, filenames in os.walk(sourc):\n",
    "        for filename in filenames:\n",
    "            name, extension = os.path.splitext(filename)\n",
    "            if extension in extens:\n",
    "                fileAbsPath = foldername + os.path.sep + filename\n",
    "                print('Coping', fileAbsPath, 'to', dest)\n",
    "                shutil.copy(fileAbsPath, dest)\n",
    "\n",
    "extens = ['.mp3', '.pdf','.jpg']\n",
    "sourc = \"C:\\\\Users\\\\rahul\\\\Desktop\\\\sourcefolder\"\n",
    "dest = \"C:\\\\Users\\\\rahul\\\\Desktop\\\\Newfolder\"\n",
    "search_copy(sourc, extens, dest)"
   ]
  },
  {
   "cell_type": "code",
   "execution_count": null,
   "metadata": {},
   "outputs": [],
   "source": []
  }
 ],
 "metadata": {
  "kernelspec": {
   "display_name": "Python 3",
   "language": "python",
   "name": "python3"
  },
  "language_info": {
   "codemirror_mode": {
    "name": "ipython",
    "version": 3
   },
   "file_extension": ".py",
   "mimetype": "text/x-python",
   "name": "python",
   "nbconvert_exporter": "python",
   "pygments_lexer": "ipython3",
   "version": "3.8.3"
  }
 },
 "nbformat": 4,
 "nbformat_minor": 4
}
