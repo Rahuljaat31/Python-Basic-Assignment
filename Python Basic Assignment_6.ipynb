{
 "cells": [
  {
   "cell_type": "code",
   "execution_count": null,
   "metadata": {},
   "outputs": [],
   "source": [
    "\"\"\"\n",
    "1. What are escape characters, and how do you use them?\n",
    "Ans.In Python strings, the backslash \"\\\" is a special character, also called the \"escape\" \n",
    "    character. It is used in representing certain whitespace characters. We use them with\n",
    "    backslash \"\\t\" is a tab, \"\\n\" is a newline, and \"\\r\" is a carriage return. \n",
    "    \n",
    "2. What do the escape characters n and t stand for?\n",
    "Ans. n stands for new line used as \"\\n\" and t stands for tab used as \"\\t\".\n",
    "\n",
    "3. What is the way to include backslash characters in a string?\n",
    "Ans.We can use two backslash \"\\\\\" in a string to include single backslash.Explained in below code\n",
    "\n",
    "4. The string \"Howl's Moving Castle\" is a correct value. Why isn't the single quote character in \n",
    "the word Howl's not escaped a problem?\n",
    "Ans.The line (\"Howl's Moving Castle\") was inserted between double quotes and word Howl's consists \n",
    "   of single quote so we can use single quote and it will not escaped. Example in below code.\n",
    "\n",
    "5. How do you write a string of newlines if you don't want to use the n character?\n",
    "Ans.We can use multiple print statement for each line if we do not want to use n character.\n",
    "    Explained in below code\n",
    "\n",
    "6. What are the values of the given expressions?\n",
    "'Hello, world!'[1]\n",
    "'Hello, world!'[0:5]\n",
    "'Hello, world!'[:5]\n",
    "'Hello, world!'[3:]\n",
    "Ans. 'e'\n",
    "     'Hello'\n",
    "     'Hello'\n",
    "     'lo, world!'\n",
    "     \n",
    "7. What are the values of the following expressions?\n",
    "'Hello'.upper()\n",
    "'Hello'.upper().isupper()\n",
    "'Hello'.upper().lower()\n",
    "Ans. 'HELLO'\n",
    "      True\n",
    "     'hello'\n",
    "      \n",
    "8. What are the values of the following expressions?\n",
    "'Remember, remember, the fifth of July.'.split()\n",
    "'-'.join('There can only one.'.split())\n",
    "Ans. ['Remember,', 'remember,', 'the', 'fifth', 'of', 'July.']\n",
    "     'There-can-only-one.'\n",
    "     \n",
    "9. What are the methods for right-justifying, left-justifying, and centering a string?\n",
    "Ans. We can use following function :\n",
    "     str.ljust(s, width[, fillchar])\n",
    "     str.rjust(s, width[, fillchar])\n",
    "     str.center(s, width[, fillchar])\n",
    "     Explained in below code\n",
    "\n",
    "10. What is the best way to remove whitespace characters from the start or end?\n",
    "Ans. We can use strip() function to remove whitespace characters from the start or end.\n",
    "     Explained in below code\n",
    "\"\"\""
   ]
  },
  {
   "cell_type": "code",
   "execution_count": 13,
   "metadata": {},
   "outputs": [
    {
     "name": "stdout",
     "output_type": "stream",
     "text": [
      "This line is to check \t tab (space is reflecting for tab)\n",
      "This line is to check \n",
      " new line (new line started for backslash n)\n"
     ]
    }
   ],
   "source": [
    "#Escape characters example\n",
    "print(\"This line is to check \\t tab (space is reflecting for tab)\")\n",
    "print(\"This line is to check \\n new line (new line started for backslash n)\")\n"
   ]
  },
  {
   "cell_type": "code",
   "execution_count": 1,
   "metadata": {},
   "outputs": [
    {
     "name": "stdout",
     "output_type": "stream",
     "text": [
      "We can use double backslash to print single backslash for example \\\n"
     ]
    }
   ],
   "source": [
    "#Ans.3 \n",
    "print(\"We can use double backslash to print single backslash for example \\\\\")"
   ]
  },
  {
   "cell_type": "code",
   "execution_count": 7,
   "metadata": {},
   "outputs": [
    {
     "name": "stdout",
     "output_type": "stream",
     "text": [
      "Howl's Moving Castle\n",
      "I hope you will be here,” he said.\n"
     ]
    }
   ],
   "source": [
    "#Ans.4 \n",
    "print(\"Howl's Moving Castle\")\n",
    "#example with single quotes for line consits of double quotes\n",
    "print('I hope you will be here,” he said.')"
   ]
  },
  {
   "cell_type": "code",
   "execution_count": 14,
   "metadata": {},
   "outputs": [
    {
     "name": "stdout",
     "output_type": "stream",
     "text": [
      "Hi \n",
      "How are you?\n",
      "Hi\n",
      "How are you?\n"
     ]
    }
   ],
   "source": [
    "#Ans.5 Example for new line without using n character\n",
    "print(\"Hi \")\n",
    "print(\"How are you?\")\n",
    "print(\"Hi\\nHow are you?\")#using \\n"
   ]
  },
  {
   "cell_type": "code",
   "execution_count": 17,
   "metadata": {},
   "outputs": [
    {
     "data": {
      "text/plain": [
       "'e'"
      ]
     },
     "execution_count": 17,
     "metadata": {},
     "output_type": "execute_result"
    }
   ],
   "source": [
    "#Ans.6\n",
    "'Hello, world!'[1]"
   ]
  },
  {
   "cell_type": "code",
   "execution_count": 21,
   "metadata": {},
   "outputs": [
    {
     "data": {
      "text/plain": [
       "'Hello'"
      ]
     },
     "execution_count": 21,
     "metadata": {},
     "output_type": "execute_result"
    }
   ],
   "source": [
    "#Ans.6\n",
    "'Hello, world!'[0:5]"
   ]
  },
  {
   "cell_type": "code",
   "execution_count": 22,
   "metadata": {},
   "outputs": [
    {
     "data": {
      "text/plain": [
       "'Hello'"
      ]
     },
     "execution_count": 22,
     "metadata": {},
     "output_type": "execute_result"
    }
   ],
   "source": [
    "#Ans.6\n",
    "'Hello, world!'[:5]"
   ]
  },
  {
   "cell_type": "code",
   "execution_count": 23,
   "metadata": {},
   "outputs": [
    {
     "data": {
      "text/plain": [
       "'lo, world!'"
      ]
     },
     "execution_count": 23,
     "metadata": {},
     "output_type": "execute_result"
    }
   ],
   "source": [
    "#Ans.6\n",
    "'Hello, world!'[3:]"
   ]
  },
  {
   "cell_type": "code",
   "execution_count": 25,
   "metadata": {},
   "outputs": [
    {
     "data": {
      "text/plain": [
       "'HELLO'"
      ]
     },
     "execution_count": 25,
     "metadata": {},
     "output_type": "execute_result"
    }
   ],
   "source": [
    "#Ans.7\n",
    "'Hello'.upper()"
   ]
  },
  {
   "cell_type": "code",
   "execution_count": 28,
   "metadata": {},
   "outputs": [
    {
     "data": {
      "text/plain": [
       "True"
      ]
     },
     "execution_count": 28,
     "metadata": {},
     "output_type": "execute_result"
    }
   ],
   "source": [
    "#Ans.7\n",
    "'Hello'.upper().isupper()"
   ]
  },
  {
   "cell_type": "code",
   "execution_count": 29,
   "metadata": {},
   "outputs": [
    {
     "data": {
      "text/plain": [
       "'hello'"
      ]
     },
     "execution_count": 29,
     "metadata": {},
     "output_type": "execute_result"
    }
   ],
   "source": [
    "#Ans.7\n",
    "'Hello'.upper().lower()"
   ]
  },
  {
   "cell_type": "code",
   "execution_count": 30,
   "metadata": {},
   "outputs": [
    {
     "data": {
      "text/plain": [
       "['Remember,', 'remember,', 'the', 'fifth', 'of', 'July.']"
      ]
     },
     "execution_count": 30,
     "metadata": {},
     "output_type": "execute_result"
    }
   ],
   "source": [
    "#Ans.8\n",
    "'Remember, remember, the fifth of July.'.split()"
   ]
  },
  {
   "cell_type": "code",
   "execution_count": 31,
   "metadata": {},
   "outputs": [
    {
     "data": {
      "text/plain": [
       "'There-can-only-one.'"
      ]
     },
     "execution_count": 31,
     "metadata": {},
     "output_type": "execute_result"
    }
   ],
   "source": [
    "#Ans.8\n",
    "'-'.join('There can only one.'.split())"
   ]
  },
  {
   "cell_type": "code",
   "execution_count": 49,
   "metadata": {},
   "outputs": [
    {
     "data": {
      "text/plain": [
       "'rrrrrrrrRahul Panwar'"
      ]
     },
     "execution_count": 49,
     "metadata": {},
     "output_type": "execute_result"
    }
   ],
   "source": [
    "#Ans.9 for right-justifying\n",
    "st = \"Rahul Panwar\"\n",
    "st.rjust(20,\"r\")"
   ]
  },
  {
   "cell_type": "code",
   "execution_count": 50,
   "metadata": {},
   "outputs": [
    {
     "data": {
      "text/plain": [
       "'Rahul Panwarllllllll'"
      ]
     },
     "execution_count": 50,
     "metadata": {},
     "output_type": "execute_result"
    }
   ],
   "source": [
    "#Ans.9 for left-justifying\n",
    "st = \"Rahul Panwar\"\n",
    "st.ljust(20,\"l\")"
   ]
  },
  {
   "cell_type": "code",
   "execution_count": 51,
   "metadata": {},
   "outputs": [
    {
     "data": {
      "text/plain": [
       "'ccccRahul Panwarcccc'"
      ]
     },
     "execution_count": 51,
     "metadata": {},
     "output_type": "execute_result"
    }
   ],
   "source": [
    "#Ans.9 for centering\n",
    "st = \"Rahul Panwar\"\n",
    "st.center(20,\"c\")"
   ]
  },
  {
   "cell_type": "code",
   "execution_count": 59,
   "metadata": {},
   "outputs": [
    {
     "name": "stdout",
     "output_type": "stream",
     "text": [
      "Rahul Panwar\n"
     ]
    }
   ],
   "source": [
    "#Ans.10 we can use strip() function\n",
    "name = \"             Rahul Panwar       \"\n",
    "print(name.strip()) "
   ]
  },
  {
   "cell_type": "code",
   "execution_count": 58,
   "metadata": {},
   "outputs": [
    {
     "name": "stdout",
     "output_type": "stream",
     "text": [
      "              Rahul Panwar        \n"
     ]
    }
   ],
   "source": [
    "#Ans.10 without strip() function\n",
    "nam = \"              Rahul Panwar        \"\n",
    "print(nam)"
   ]
  },
  {
   "cell_type": "code",
   "execution_count": 60,
   "metadata": {},
   "outputs": [
    {
     "name": "stdout",
     "output_type": "stream",
     "text": [
      "Rahul Panwar          \n"
     ]
    }
   ],
   "source": [
    "#Ans.10 lstrip() removes white space from left\n",
    "na = \"                Rahul Panwar          \"\n",
    "print(na.lstrip())"
   ]
  },
  {
   "cell_type": "code",
   "execution_count": 1,
   "metadata": {},
   "outputs": [
    {
     "name": "stdout",
     "output_type": "stream",
     "text": [
      "                Rahul Panwar\n"
     ]
    }
   ],
   "source": [
    "#Ans.10 rstrip() removes white space from right\n",
    "n = \"                Rahul Panwar             \"\n",
    "print(n.rstrip())"
   ]
  },
  {
   "cell_type": "code",
   "execution_count": null,
   "metadata": {},
   "outputs": [],
   "source": []
  }
 ],
 "metadata": {
  "kernelspec": {
   "display_name": "Python 3",
   "language": "python",
   "name": "python3"
  },
  "language_info": {
   "codemirror_mode": {
    "name": "ipython",
    "version": 3
   },
   "file_extension": ".py",
   "mimetype": "text/x-python",
   "name": "python",
   "nbconvert_exporter": "python",
   "pygments_lexer": "ipython3",
   "version": "3.8.3"
  }
 },
 "nbformat": 4,
 "nbformat_minor": 4
}
