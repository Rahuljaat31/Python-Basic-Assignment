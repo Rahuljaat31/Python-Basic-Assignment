{
 "cells": [
  {
   "cell_type": "markdown",
   "metadata": {},
   "source": [
    " 1. What is the name of the feature responsible for generating Regex objects?\n",
    "\n",
    "\n",
    "Ans. The re.compile() function returns Regex objects.\n",
    "     import re\n",
    "     re.compile(\"x\")\n",
    "\n",
    "2. Why do raw strings often appear in Regex objects?\n",
    "\n",
    "\n",
    "Ans. Raw strings are used so that backslashes do not have to be escaped.\n",
    "\n",
    "3. What is the return value of the search() method?\n",
    "\n",
    "\n",
    "Ans. The search() function returns the first location where it finds the match. If no match is \n",
    "     found it will return none.\n",
    "     Example in below code\n",
    "\n",
    "4. From a Match item, how do you get the actual strings that match the pattern?\n",
    "\n",
    "\n",
    "Ans. Explained in below code \n",
    "\n",
    "5. In the regex which created from the r'(\\d\\d\\d)-(\\d\\d\\d-\\d\\d\\d\\d)', what does group \n",
    "   zero cover? Group 2? Group 1?\n",
    "\n",
    "\n",
    "Ans. group zero will cover '420-111-8400'or (\\d\\d\\d)-(\\d\\d\\d-\\d\\d\\d\\d)\n",
    "     group 2 will cover '111-8400' or (\\d\\d\\d-\\d\\d\\d\\d)\n",
    "     group 1 will cover '420' or (\\d\\d\\d)\n",
    "     Explained in below code with the digits.\n",
    "\n",
    "6. In standard expression syntax, parentheses and intervals have distinct meanings. How can you \n",
    "   tell a regex that you want it to fit real parentheses and periods?\n",
    "\n",
    "\n",
    "Ans. Periods and parentheses can be escaped with a backslash: \\., \\(, and \\).\n",
    "\n",
    "7. The findall() method returns a string list or a list of string tuples. What causes it to \n",
    "   return one of the two options?\n",
    "\n",
    "\n",
    "Ans. If the regex has no groups, a list of strings is returned. If the regex has groups, a list \n",
    "    of tuples of strings is returned.\n",
    "\n",
    "8. In standard expressions, what does the | character mean?\n",
    "\n",
    "\n",
    "Ans. The character | is called pipe and | is used to match “either, or” between two groups.\n",
    "     Explained in below code.\n",
    "\n",
    "9. In regular expressions, what does the character stand for?\n",
    "\n",
    "\n",
    "Ans. Each character in a regular expression (that is, each character in the string describing its \n",
    "     pattern) is either a metacharacter, having a special meaning, or a regular character that \n",
    "     has a literal meaning. For example, in the regex b., 'b' is a literal character that matches \n",
    "     just 'b', while '.' is a metacharacter that matches every character except a newline.\n",
    "\n",
    "10. In regular expressions, what is the difference between the + and * characters?\n",
    "\n",
    "\n",
    "Ans. In regular expressions, '+' operator denotes repetition of operand 1 or more times and \n",
    "    '*'  denotes the repetition of operand for zero or more times.       \n",
    "    \n",
    "11. What is the difference between {4} and {4,5} in regular expression?\n",
    "\n",
    "\n",
    "Ans. The {4} matches exactly four instances of the preceding group.The {4,5} matches between \n",
    "     four and five instances. Explained in below code\n",
    "\n",
    "12. What do you mean by the \\d, \\w, and \\s shorthand character classes signify in regular\n",
    "    expressions?\n",
    "\n",
    "\n",
    "Ans. The \\d, \\w, and \\s shorthand character classes match a single digit, word, or space \n",
    "     character, respectively.\n",
    "\n",
    "13. What do means by \\D, \\W, and \\S shorthand character classes signify in regular expressions?\n",
    "\n",
    "\n",
    "Ans. The \\D, \\W, and \\S shorthand character classes match a single character that is not a digit, \n",
    "     word, or space character, respectively.\n",
    "\n",
    "14. What is the difference between .*? and .*?\n",
    "\n",
    "\n",
    "Ans. .* is a greedy mode, which returns the longest string that meets the condition. \n",
    "     Whereas .*? is a non greedy mode which returns the shortest string that meets the condition.\n",
    "     Example in below code\n",
    "\n",
    "15. What is the syntax for matching both numbers and lowercase letters with a character class?\n",
    "\n",
    "\n",
    "Ans. Syntax is Either [a-z0-9] or [0-9a-z]\n",
    "\n",
    "\n",
    "16. What is the procedure for making a normal expression in regax case insensitive?\n",
    "\n",
    "\n",
    "Ans. We can pass re.IGNORECASE as a flag to make a normal expression case insensitive.\n",
    "\n",
    "17. What does the . character normally match? What does it match if re.DOTALL is passed as 2nd\n",
    "    argument in re.compile()?\n",
    "\n",
    "\n",
    "Ans. Dot . character matches everything in input except newline character .By passing re.DOTALL        as a flag to re.compile(), you can make the dot character match all characters, including        the newline character.\n",
    "\n",
    "18. If numReg = re.compile(r'\\d+'), what will numRegex.sub('X', '11 drummers, 10 pipers, five         rings, 4 hen') return?\n",
    "\n",
    "\n",
    "Ans. The Ouput will be 'X drummers, X pipers, five rings, X hen'\n",
    "     Explained in below code.\n",
    "    \n",
    "\n",
    "19. What does passing re.VERBOSE as the 2nd argument to re.compile() allow to do?\n",
    "\n",
    "\n",
    "Ans. re.VERBOSE will allow to add whitespace and comments to string passed to re.compile().\n",
    "\n",
    "20. How would you write a regex that match a number with comma for every three digits? It must\n",
    "    match the given following:\n",
    "    '42'\n",
    "    '1,234'\n",
    "    '6,368,745'\n",
    "    but not the following: \n",
    "    '12,34,567' (which has only two digits between the commas) \n",
    "    '1234' (which lacks commas)\n",
    "\n",
    "\n",
    "Ans. Explained in below code\n",
    "\n",
    "21. How would you write a regex that matches the full name of someone whose last name is\n",
    "    Watanabe? You can assume that the first name that comes before it will always be one word         that begins with a capital letter. The regex must match the following:\n",
    "    'Haruto Watanabe'\n",
    "    'Alice Watanabe'\n",
    "    'RoboCop Watanabe'\n",
    "\n",
    "    but not the following:\n",
    "\n",
    "    'haruto Watanabe' (where the first name is not capitalized)\n",
    "    'Mr. Watanabe' (where the preceding word has a nonletter character)\n",
    "    'Watanabe' (which has no first name)\n",
    "    'Haruto watanabe' (where Watanabe is not capitalized)\n",
    "\n",
    "\n",
    "Ans. Explained in below code\n",
    "\n",
    "22. How would you write a regex that matches a sentence where the first word is either Alice, \n",
    "    Bob, or Carol; the second word is either eats, pets, or throws; the third word is apples,         cats,or baseballs; and the sentence ends with a period? This regex should be case-               insensitive. It must match the following:\n",
    "    'Alice eats apples.'\n",
    "    'Bob pets cats.'\n",
    "    'Carol throws baseballs.'\n",
    "    'Alice throws Apples.'\n",
    "    'BOB EATS CATS.'\n",
    "\n",
    "    but not the following:\n",
    "\n",
    "    'RoboCop eats apples.'\n",
    "    'ALICE THROWS FOOTBALLS.'\n",
    "    'Carol eats 7 cats.'\n",
    "\n",
    "\n",
    "Ans.22 Explained in below code"
   ]
  },
  {
   "cell_type": "code",
   "execution_count": 1,
   "metadata": {},
   "outputs": [
    {
     "name": "stdout",
     "output_type": "stream",
     "text": [
      "<re.Match object; span=(20, 26), match='search'>\n"
     ]
    }
   ],
   "source": [
    "#Ans.3 <re.Match object; span=(20, 26), match='search'>\n",
    "import re\n",
    "st = \"This is example for search function return value\"\n",
    "p = r\"\\bsearch\\b\"\n",
    "m = re.search(p, st)\n",
    "print(m)"
   ]
  },
  {
   "cell_type": "code",
   "execution_count": 10,
   "metadata": {},
   "outputs": [
    {
     "name": "stdout",
     "output_type": "stream",
     "text": [
      "None\n"
     ]
    }
   ],
   "source": [
    "#Ans.3 return None if no match\n",
    "import re\n",
    "st = \"This is example for search function return value\"\n",
    "p = r\"\\bnone\\b\"\n",
    "m = re.search(p, st)\n",
    "print(m)"
   ]
  },
  {
   "cell_type": "code",
   "execution_count": 11,
   "metadata": {},
   "outputs": [
    {
     "name": "stdout",
     "output_type": "stream",
     "text": [
      "Roll number is: 0420-111-840\n"
     ]
    }
   ],
   "source": [
    "#Ans.4 Pattern matching example for 10 digits roll number\n",
    "import re\n",
    "roln = re.compile(r'(\\d\\d\\d\\d)-(\\d\\d\\d)-(\\d\\d\\d)')\n",
    "r = roln.search('My roll number is 0420-111-840.')\n",
    "print('Roll number is: ' + r.group())"
   ]
  },
  {
   "cell_type": "code",
   "execution_count": 19,
   "metadata": {},
   "outputs": [
    {
     "data": {
      "text/plain": [
       "'420-111-8400'"
      ]
     },
     "execution_count": 19,
     "metadata": {},
     "output_type": "execute_result"
    }
   ],
   "source": [
    "#Ans.5 group 0\n",
    "import re\n",
    "roln = re.compile(r'(\\d\\d\\d)-(\\d\\d\\d-\\d\\d\\d\\d)')\n",
    "r = roln.search('My roll number is 420-111-8400.')\n",
    "r.group(0)"
   ]
  },
  {
   "cell_type": "code",
   "execution_count": 20,
   "metadata": {},
   "outputs": [
    {
     "data": {
      "text/plain": [
       "'420'"
      ]
     },
     "execution_count": 20,
     "metadata": {},
     "output_type": "execute_result"
    }
   ],
   "source": [
    "#Ans.5 group 1\n",
    "import re\n",
    "roln = re.compile(r'(\\d\\d\\d)-(\\d\\d\\d-\\d\\d\\d\\d)')\n",
    "r = roln.search('My roll number is 420-111-8400.')\n",
    "r.group(1)"
   ]
  },
  {
   "cell_type": "code",
   "execution_count": 21,
   "metadata": {},
   "outputs": [
    {
     "data": {
      "text/plain": [
       "'111-8400'"
      ]
     },
     "execution_count": 21,
     "metadata": {},
     "output_type": "execute_result"
    }
   ],
   "source": [
    "#Ans.5 group 2\n",
    "import re\n",
    "roln = re.compile(r'(\\d\\d\\d)-(\\d\\d\\d-\\d\\d\\d\\d)')\n",
    "r = roln.search('My roll number is 420-111-8400.')\n",
    "r.group(2)"
   ]
  },
  {
   "cell_type": "code",
   "execution_count": 4,
   "metadata": {},
   "outputs": [
    {
     "data": {
      "text/plain": [
       "'Nokia'"
      ]
     },
     "execution_count": 4,
     "metadata": {},
     "output_type": "execute_result"
    }
   ],
   "source": [
    "#Ans.8 using pipe  | \n",
    "import re\n",
    "mob = re.compile (r'Nokia|Iphone')\n",
    "p = mob.search('Nokia and Iphone')\n",
    "p.group()"
   ]
  },
  {
   "cell_type": "code",
   "execution_count": 10,
   "metadata": {},
   "outputs": [
    {
     "name": "stdout",
     "output_type": "stream",
     "text": [
      "['Samsung', 'Samsung', 'Samsung', 'Samsung', 'Samsung']\n"
     ]
    }
   ],
   "source": [
    "#Ans. 11 using {4}\n",
    "import re\n",
    "s = \"The Samsunsg Samsunsg Samsung Group[3] (or simply Samsung, stylized as SΛMSUNG) (Korean: 삼성 [samsʌŋ]) is a South Korean multinational manufacturing conglomerate headquartered in Samsung Town, Seoul, South Korea.[1] It comprises numerous affiliated businesses,[1] most of them united under the Samsung brand, and is the largest South Korean chaebol (business conglomerate). As of 2020, Samsung has the 8th highest global brand value.[4] \"\n",
    "x = re.findall(\"Sa.{4}g\", s)\n",
    "print(x)"
   ]
  },
  {
   "cell_type": "code",
   "execution_count": 11,
   "metadata": {},
   "outputs": [
    {
     "name": "stdout",
     "output_type": "stream",
     "text": [
      "['Samsunsg', 'Samsunsg', 'Samsung', 'Samsung', 'Samsung', 'Samsung', 'Samsung']\n"
     ]
    }
   ],
   "source": [
    "#Ans.11 using {4,5}\n",
    "import re\n",
    "s = \"The Samsunsg Samsunsg Samsung Group[3] (or simply Samsung, stylized as SΛMSUNG) (Korean: 삼성 [samsʌŋ]) is a South Korean multinational manufacturing conglomerate headquartered in Samsung Town, Seoul, South Korea.[1] It comprises numerous affiliated businesses,[1] most of them united under the Samsung brand, and is the largest South Korean chaebol (business conglomerate). As of 2020, Samsung has the 8th highest global brand value.[4] \"\n",
    "x = re.findall(\"Sa.{4,5}g\", s)\n",
    "print(x)"
   ]
  },
  {
   "cell_type": "code",
   "execution_count": 12,
   "metadata": {},
   "outputs": [
    {
     "data": {
      "text/plain": [
       "'<Jack and jill went up the hill>'"
      ]
     },
     "execution_count": 12,
     "metadata": {},
     "output_type": "execute_result"
    }
   ],
   "source": [
    "#Ans. 15 .*?\n",
    "rn = re.compile(r'<.*?>')\n",
    "m = rn.search('<Jack and jill went up the hill> to fetch a pill of water.>')\n",
    "m.group()"
   ]
  },
  {
   "cell_type": "code",
   "execution_count": 13,
   "metadata": {},
   "outputs": [
    {
     "data": {
      "text/plain": [
       "'<Jack and jill went up the hill> to fetch a pill of water>'"
      ]
     },
     "execution_count": 13,
     "metadata": {},
     "output_type": "execute_result"
    }
   ],
   "source": [
    "#Ans. 15 .*\n",
    "r = re.compile(r'<.*>')\n",
    "m = r.search('<Jack and jill went up the hill> to fetch a pill of water>')\n",
    "m.group()"
   ]
  },
  {
   "cell_type": "code",
   "execution_count": 2,
   "metadata": {},
   "outputs": [
    {
     "data": {
      "text/plain": [
       "'X drummers, X pipers, five rings, X hen'"
      ]
     },
     "execution_count": 2,
     "metadata": {},
     "output_type": "execute_result"
    }
   ],
   "source": [
    "#Ans 18\n",
    "import re\n",
    "numReg = re.compile(r'\\d+')\n",
    "numReg.sub('X', '11 drummers, 10 pipers, five rings, 4 hen')"
   ]
  },
  {
   "cell_type": "code",
   "execution_count": 9,
   "metadata": {},
   "outputs": [
    {
     "name": "stdout",
     "output_type": "stream",
     "text": [
      "42 -> <re.Match object; span=(0, 2), match='42'>\n",
      "1,234 -> <re.Match object; span=(0, 5), match='1,234'>\n",
      "6,368,745 -> <re.Match object; span=(0, 9), match='6,368,745'>\n",
      "12,34,567 -> None\n",
      "1234 -> None\n"
     ]
    }
   ],
   "source": [
    "#Ans 20.\n",
    "import re\n",
    "pat = r'^\\d{1,3}(,\\d{3})*$'\n",
    "pa = re.compile(pat)\n",
    "for i in ['42','1,234', '6,368,745','12,34,567','1234']:\n",
    "    print( i, '->', pa.search(i))"
   ]
  },
  {
   "cell_type": "code",
   "execution_count": 10,
   "metadata": {},
   "outputs": [
    {
     "name": "stdout",
     "output_type": "stream",
     "text": [
      "Haruto Watanabe -> <re.Match object; span=(0, 15), match='Haruto Watanabe'>\n",
      "Alice Watanabe -> <re.Match object; span=(0, 14), match='Alice Watanabe'>\n",
      "RoboCop Watanabe -> <re.Match object; span=(4, 16), match='Cop Watanabe'>\n",
      "haruto Watanabe -> None\n",
      "Mr. Watanabe -> None\n",
      "Watanabe -> None\n",
      "Haruto watanabe -> None\n"
     ]
    }
   ],
   "source": [
    "#Ans 21\n",
    "import re\n",
    "pat = r'[A-Z]{1}[a-z]*\\sWatanabe'\n",
    "nam = re.compile(pat)\n",
    "for na in ['Haruto Watanabe','Alice Watanabe','RoboCop Watanabe','haruto Watanabe','Mr. Watanabe','Watanabe','Haruto watanabe']:\n",
    "    print(na,'->',nam.search(na))"
   ]
  },
  {
   "cell_type": "code",
   "execution_count": 12,
   "metadata": {},
   "outputs": [
    {
     "name": "stdout",
     "output_type": "stream",
     "text": [
      "Alice eats apples. -> <re.Match object; span=(0, 18), match='Alice eats apples.'>\n",
      "Bob pets cats. -> <re.Match object; span=(0, 14), match='Bob pets cats.'>\n",
      "Carol throws baseballs. -> <re.Match object; span=(0, 23), match='Carol throws baseballs.'>\n",
      "Alice throws Apples. -> <re.Match object; span=(0, 20), match='Alice throws Apples.'>\n",
      "BOB EATS CATS. -> <re.Match object; span=(0, 14), match='BOB EATS CATS.'>\n",
      "RoboCop eats apples. -> None\n",
      "ALICE THROWS FOOTBALLS. -> None\n",
      "Carol eats 7 cats. -> None\n"
     ]
    }
   ],
   "source": [
    "#Ans 22\n",
    "import re\n",
    "pat = r'(Alice|Bob|Carol)\\s(eats|pets|throws)\\s(apples|cats|baseballs)\\.'\n",
    "case = re.compile(pat,re.IGNORECASE)\n",
    "for i in ['Alice eats apples.','Bob pets cats.','Carol throws baseballs.','Alice throws Apples.','BOB EATS CATS.','RoboCop eats apples.'\n",
    ",'ALICE THROWS FOOTBALLS.','Carol eats 7 cats.']:\n",
    "    print(i,'->',case.search(i))"
   ]
  }
 ],
 "metadata": {
  "kernelspec": {
   "display_name": "Python 3",
   "language": "python",
   "name": "python3"
  },
  "language_info": {
   "codemirror_mode": {
    "name": "ipython",
    "version": 3
   },
   "file_extension": ".py",
   "mimetype": "text/x-python",
   "name": "python",
   "nbconvert_exporter": "python",
   "pygments_lexer": "ipython3",
   "version": "3.8.3"
  }
 },
 "nbformat": 4,
 "nbformat_minor": 4
}
