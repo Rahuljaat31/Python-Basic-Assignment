{
 "cells": [
  {
   "cell_type": "code",
   "execution_count": null,
   "metadata": {},
   "outputs": [],
   "source": [
    "'''\n",
    "1. Why are functions advantageous to have in your programs?\n",
    "Ans. Functions enable us to reuse of code, improve maintainability and scalability. This makes \n",
    "programs shorter, easier to read, and easier to update.\n",
    "\n",
    "2. When does the code in a function run: when it's specified or when it's called?\n",
    "Ans. Code in a function run when it is called.\n",
    "\n",
    "3. What statement creates a function?\n",
    "Ans. def statement creates a function. for example \n",
    "def func():\n",
    "    a = 1\n",
    "    while a<2 :\n",
    "        a = a+1\n",
    "        print(\"called function func\")\n",
    "        \n",
    "4. What is the difference between a function and a function call?\n",
    "Ans. A function is set of codes made to solve any specific problem and \"def\" is used to define \n",
    "  function whereas function call is used to execute a defined function whereever it is called \n",
    "  or used multiple times in a program. Explained in examples in codes #Ans 2 ,3 and 4 example\n",
    "  \n",
    "5. How many global scopes are there in a Python program? How many local scopes?\n",
    "Ans. There is only one global scope per python program execution. Global scope remains in \n",
    "existence until the program terminates where as local scope is created whenever a function \n",
    "is called. There can be multiple local space depending on function call.\n",
    "For example, if you assign a value to a name inside a function, then that name will have a local \n",
    "Python scope. In contrast, if you assign a value to a name outside of all functions—say, at the \n",
    "top level of a module—then that name will have a global Python scope.\n",
    "\n",
    "6. What happens to variables in a local scope when the function call returns?\n",
    "Ans. The local scope is destroyed or terminated when the function call returns.\n",
    "\n",
    "7. What is the concept of a return value? Is it possible to have a return value in an expression?\n",
    "Ans. A return statement is used to end the execution of the function call and “returns” the \n",
    "result (value of the expression following the return keyword) to the caller. The statements \n",
    "after the return statements are not executed. If the return statement is without any expression, \n",
    "then the special value None is returned.\n",
    "\n",
    "Yes it is possible to return value in an expression,If you define a function with an explicit \n",
    "return statement that has an explicit return value, then you can use that return value in any \n",
    "expression:\n",
    "\n",
    "8. If a function does not have a return statement, what is the return value of a call to that\n",
    "function?\n",
    "Ans. If a function does not specify a return value, it returns None.\n",
    "for example in code Ans. 8\n",
    "\n",
    "9. How do you make a function variable refer to the global variable?\n",
    "Ans.We can use keyword \"global\" to make function variable to declare variables as global variable\n",
    "\n",
    "10. What is the data type of None?\n",
    "Ans. Data type of None is None type.\n",
    "\n",
    "11. What does the sentence import areallyourpetsnamederic do?\n",
    "Ans. The sentence import areallyourpetsnamederic will import a module named \n",
    "areallyourpetsnamederic in python. However areallyourpetsnamederic is not real python module.\n",
    "\n",
    "12. If you had a bacon() feature in a spam module, what would you call it after importing spam?\n",
    "Ans. This function can be called with spam.bacon().\n",
    "     >>>>import spam\n",
    "     >>>>spam.bacon()\n",
    "     \n",
    "13. What can you do to save a programme from crashing if it encounters an error?\n",
    "Ans. We can save a programme from crashing if it encounters an error by placing the line of code \n",
    "    that might cause an error in a try clause with try and except combination.\n",
    "    \n",
    "14. What is the purpose of the try clause? What is the purpose of the except clause?\n",
    "Ans. The code that could potentially cause an error goes in the try clause. The code that \n",
    "executes if an error happens goes in the except clause. Example in code below\n",
    "\n",
    "'''"
   ]
  },
  {
   "cell_type": "code",
   "execution_count": 3,
   "metadata": {},
   "outputs": [
    {
     "name": "stdout",
     "output_type": "stream",
     "text": [
      "called function func\n"
     ]
    }
   ],
   "source": [
    "#Ans 2 ,3 and 4 example\n",
    "def func(): #def statement used for creating function name func\n",
    "    a = 1\n",
    "    while a<2 :\n",
    "        a = a+1\n",
    "        print(\"called function func\")\n",
    "func()#by calling func() printed output \"called function func\""
   ]
  },
  {
   "cell_type": "code",
   "execution_count": 5,
   "metadata": {},
   "outputs": [
    {
     "name": "stdout",
     "output_type": "stream",
     "text": [
      "called function func\n"
     ]
    }
   ],
   "source": [
    "#Ans 4 example extended\n",
    "func()#function func() called multiple times"
   ]
  },
  {
   "cell_type": "code",
   "execution_count": 10,
   "metadata": {},
   "outputs": [],
   "source": [
    "#Ans 8 example without return statement\n",
    "a = 20\n",
    "b = 10\n",
    "def withoutreturn(): #without return statement\n",
    "    c = a + b\n",
    "withoutreturn()"
   ]
  },
  {
   "cell_type": "code",
   "execution_count": 11,
   "metadata": {},
   "outputs": [
    {
     "data": {
      "text/plain": [
       "30"
      ]
     },
     "execution_count": 11,
     "metadata": {},
     "output_type": "execute_result"
    }
   ],
   "source": [
    "#Ans 8 example with return statement\n",
    "a = 20\n",
    "b = 10\n",
    "def withreturn():\n",
    "    c = a + b\n",
    "    return c #with return statement\n",
    "withreturn()"
   ]
  },
  {
   "cell_type": "code",
   "execution_count": 12,
   "metadata": {},
   "outputs": [
    {
     "name": "stdout",
     "output_type": "stream",
     "text": [
      "Enter only int else face error string\n",
      "error occured\n"
     ]
    }
   ],
   "source": [
    "#Ans 14\n",
    "try : \n",
    "    a = int(input(   \"Enter only int else face error\" \" \"  ))\n",
    "    print(\"integer entered\")\n",
    "except:\n",
    "    print(\"error occured\")#incase of input other than int the except will handle error"
   ]
  },
  {
   "cell_type": "code",
   "execution_count": null,
   "metadata": {},
   "outputs": [],
   "source": []
  }
 ],
 "metadata": {
  "kernelspec": {
   "display_name": "Python 3",
   "language": "python",
   "name": "python3"
  },
  "language_info": {
   "codemirror_mode": {
    "name": "ipython",
    "version": 3
   },
   "file_extension": ".py",
   "mimetype": "text/x-python",
   "name": "python",
   "nbconvert_exporter": "python",
   "pygments_lexer": "ipython3",
   "version": "3.8.3"
  }
 },
 "nbformat": 4,
 "nbformat_minor": 4
}
